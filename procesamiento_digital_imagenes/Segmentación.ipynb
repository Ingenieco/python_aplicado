{
 "cells": [
  {
   "cell_type": "code",
   "execution_count": 26,
   "id": "c6704816-a0af-4753-a505-9fa5b2ce2422",
   "metadata": {},
   "outputs": [],
   "source": [
    "import cv2\n",
    "import numpy as np"
   ]
  },
  {
   "cell_type": "code",
   "execution_count": 27,
   "id": "f28f3e42-6c29-4ac3-8e5f-05bc6925541d",
   "metadata": {},
   "outputs": [],
   "source": [
    "image_as_BGR = cv2.imread(\"C:\\\\Jupyter\\\\pdi\\\\imagenes\\\\monedas.jpg\")\n",
    "image_as_GRAY = cv2.cvtColor(image_as_BGR, cv2.COLOR_BGR2GRAY)"
   ]
  },
  {
   "cell_type": "code",
   "execution_count": 30,
   "id": "461a46bc-fdd3-4def-89f2-3e928ca0cfd3",
   "metadata": {},
   "outputs": [
    {
     "name": "stdout",
     "output_type": "stream",
     "text": [
      "25\n",
      "{0, 1, 2, 3, 4, 5, 6, 7, 8, 9, 10, 11, 12, 13, 14, 15, 16, 17, 18, 19, 20, 21, 22, 23, 24}\n",
      "Help on built-in function watershed:\n",
      "\n",
      "watershed(...)\n",
      "    watershed(image, markers) -> markers\n",
      "    .   @brief Performs a marker-based image segmentation using the watershed algorithm.\n",
      "    .\n",
      "    .   The function implements one of the variants of watershed, non-parametric marker-based segmentation\n",
      "    .   algorithm, described in @cite Meyer92 .\n",
      "    .\n",
      "    .   Before passing the image to the function, you have to roughly outline the desired regions in the\n",
      "    .   image markers with positive (\\>0) indices. So, every region is represented as one or more connected\n",
      "    .   components with the pixel values 1, 2, 3, and so on. Such markers can be retrieved from a binary\n",
      "    .   mask using #findContours and #drawContours (see the watershed.cpp demo). The markers are \"seeds\" of\n",
      "    .   the future image regions. All the other pixels in markers , whose relation to the outlined regions\n",
      "    .   is not known and should be defined by the algorithm, should be set to 0's. In the function output,\n",
      "    .   each pixel in markers is set to a value of the \"seed\" components or to -1 at boundaries between the\n",
      "    .   regions.\n",
      "    .\n",
      "    .   @note Any two neighbor connected components are not necessarily separated by a watershed boundary\n",
      "    .   (-1's pixels); for example, they can touch each other in the initial marker image passed to the\n",
      "    .   function.\n",
      "    .\n",
      "    .   @param image Input 8-bit 3-channel image.\n",
      "    .   @param markers Input/output 32-bit single-channel image (map) of markers. It should have the same\n",
      "    .   size as image .\n",
      "    .\n",
      "    .   @sa findContours\n",
      "\n"
     ]
    }
   ],
   "source": [
    "valor_umbral = 0\n",
    "valor_maximo = 255\n",
    "tipo = cv2.THRESH_BINARY_INV + cv2.THRESH_OTSU\n",
    "return_value, image_with_treshold = cv2.threshold(image_as_GRAY, valor_umbral, valor_maximo, tipo)\n",
    "\n",
    "kernel = np.ones((3,3), np.uint8)\n",
    "image_as_opening = cv2.morphologyEx(image_with_treshold, cv2.MORPH_OPEN, kernel, iterations = 2)\n",
    "background = cv2.dilate(image_as_opening, kernel, iterations = 3)\n",
    "distance_transform = cv2.distanceTransform(image_as_opening,cv2.DIST_L2,5)\n",
    "#print(distance_transform.flatten().tolist())\n",
    "cv2.normalize(distance_transform, distance_transform,1,0,cv2.NORM_INF)\n",
    "#print(distance_transform.flatten().tolist())\n",
    "\n",
    "valor_umbral = 0.7*distance_transform.max()\n",
    "valor_maximo = 255\n",
    "tipo = cv2.THRESH_BINARY\n",
    "return_value, foreground = cv2.threshold(distance_transform,valor_umbral,valor_maximo,tipo)\n",
    "foreground = np.uint8(foreground)\n",
    "image = cv2.subtract(background,foreground)\n",
    "\n",
    "return_value,markers = cv2.connectedComponents(foreground)\n",
    "print(return_value)\n",
    "print(set(markers.flatten().tolist()))\n",
    "\n",
    "markers = markers + 1\n",
    "markers[image == 255] = 0\n",
    "markers = cv2.watershed(image_as_BGR, markers)\n",
    "min_value, max_value, min_value_coordinate, max_value_coordinate = cv2.minMaxLoc(markers)\n",
    "\n",
    "markers = 255*(markers - min_value)/(max_value - min_value)\n",
    "markers = np.uint8(markers)\n",
    "\n",
    "markers = cv2.applyColorMap(markers, cv2.COLORMAP_JET)\n",
    "cv2.imshow(\"Segmentación\",markers)\n",
    "cv2.waitKey(10000)\n",
    "cv2.destroyAllWindows()\n",
    "\n",
    "#cv2.distanceTransform(src, distanceType, maskSize[, dst]) → dst\n",
    "#cv2.normalize(src[, dst[, alpha[, beta[, norm_type[, dtype[, mask]]]]]]) → dst\n",
    "#cv.connectedComponents(image[, labels[, connectivity[, ltype]]]) ->retval, labels\n",
    "#cv2.watershed(image, markers)\n",
    "help(cv2.watershed)"
   ]
  }
 ],
 "metadata": {
  "kernelspec": {
   "display_name": "Python 3 (ipykernel)",
   "language": "python",
   "name": "python3"
  },
  "language_info": {
   "codemirror_mode": {
    "name": "ipython",
    "version": 3
   },
   "file_extension": ".py",
   "mimetype": "text/x-python",
   "name": "python",
   "nbconvert_exporter": "python",
   "pygments_lexer": "ipython3",
   "version": "3.12.3"
  }
 },
 "nbformat": 4,
 "nbformat_minor": 5
}
