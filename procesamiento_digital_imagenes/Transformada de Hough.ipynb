{
 "cells": [
  {
   "cell_type": "code",
   "execution_count": 7,
   "id": "80f40cf8-468f-4172-93ea-90a832e3cf5e",
   "metadata": {},
   "outputs": [],
   "source": [
    "import cv2\n",
    "import numpy as np"
   ]
  },
  {
   "cell_type": "code",
   "execution_count": 2,
   "id": "26788fc6-aecf-4d96-b804-aff7265b95ec",
   "metadata": {},
   "outputs": [],
   "source": [
    "imagen_BGR = cv2.imread(\"C:\\\\Jupyter\\\\pdi\\\\imagenes\\\\sudoku.jpg\")\n",
    "imagen_GRAY = cv2.cvtColor(imagen_BGR, cv2.COLOR_BGR2GRAY)"
   ]
  },
  {
   "cell_type": "code",
   "execution_count": 14,
   "id": "a39d90a1-6a20-427d-8855-f06b595b7300",
   "metadata": {},
   "outputs": [
    {
     "data": {
      "text/plain": [
       "(423, 419, 3)"
      ]
     },
     "execution_count": 14,
     "metadata": {},
     "output_type": "execute_result"
    }
   ],
   "source": [
    "imagen_BGR.shape"
   ]
  },
  {
   "cell_type": "code",
   "execution_count": 3,
   "id": "40ee415f-9480-4946-90cd-86e657abe23c",
   "metadata": {},
   "outputs": [],
   "source": [
    "valor_umbral_min = 50\n",
    "valor_umbral_max = 100\n",
    "tamaño_kernel = 3"
   ]
  },
  {
   "cell_type": "code",
   "execution_count": 4,
   "id": "474cd655-bb23-4612-8e09-a5770ebbbbe3",
   "metadata": {},
   "outputs": [],
   "source": [
    "imagen_con_canny = cv2.Canny(imagen_GRAY, valor_umbral_min, valor_umbral_max, apertureSize = tamaño_kernel)"
   ]
  },
  {
   "cell_type": "code",
   "execution_count": 8,
   "id": "25ee6f13-25ac-48f3-9c4a-1a2520740627",
   "metadata": {},
   "outputs": [],
   "source": [
    "valor_umbral = 175 # si hay pixeles donde han pasado más de 175 líneas, crea una línea\n",
    "lineas = cv2.HoughLines(imagen_con_canny, rho = 1, theta = np.pi/180, threshold = valor_umbral)"
   ]
  },
  {
   "cell_type": "code",
   "execution_count": 21,
   "id": "323b4e32-cfa6-4d90-80bd-f3abb777b610",
   "metadata": {},
   "outputs": [],
   "source": [
    "for index in range(len(lineas)):\n",
    "    rho = lineas[index][0][0]\n",
    "    theta = lineas[index][0][1]\n",
    "\n",
    "    a = np.cos(theta)\n",
    "    b = np.sin(theta)\n",
    "\n",
    "    x_0 = a * rho\n",
    "    y_0 = b * rho\n",
    "    \n",
    "    x_1 = int(x_0 + 500*(-b))\n",
    "    y_1 = int(y_0 + 500*(a))\n",
    "\n",
    "    x_2 = int(x_0 - 500*(-b))\n",
    "    y_2 = int(y_0 - 500*(a))\n",
    "    \n",
    "    \n",
    "    #Con las coordenadas se puede trazar la línea\n",
    "    cv2.line(imagen_BGR, (x_1, y_1), (x_2, y_2), (0, 255, 0), 2)\n",
    "\n",
    "cv2.imshow(\"Imagen original\", imagen_BGR)\n",
    "cv2.imshow(\"Imagen con Cannyl\", imagen_con_canny)\n",
    "cv2.waitKey(15000)\n",
    "cv2.destroyAllWindows()"
   ]
  },
  {
   "cell_type": "markdown",
   "id": "eced0c98-8ce0-48af-81c5-ca68e85520e7",
   "metadata": {},
   "source": [
    "### Otro ejemplo"
   ]
  },
  {
   "cell_type": "code",
   "execution_count": 29,
   "id": "ac7a4f02-1ea5-42d2-b638-87d5523d1102",
   "metadata": {},
   "outputs": [],
   "source": [
    "imagen_BGR = cv2.imread(\"C:\\\\Jupyter\\\\pdi\\\\imagenes\\\\linea.png\")\n",
    "imagen_GRAY = cv2.cvtColor(imagen_BGR, cv2.COLOR_BGR2GRAY)\n",
    "\n",
    "valor_umbral_min = 50\n",
    "valor_umbral_max = 100\n",
    "tamaño_kernel = 3\n",
    "\n",
    "imagen_con_canny = cv2.Canny(imagen_GRAY, valor_umbral_min, valor_umbral_max, apertureSize = tamaño_kernel)\n",
    "valor_umbral = 50 # si hay pixeles donde han pasado más de 175 líneas, crea una línea\n",
    "lineas = cv2.HoughLines(imagen_con_canny, rho = 1, theta = np.pi/180, threshold = valor_umbral)\n",
    "\n",
    "for index in range(len(lineas)):\n",
    "    rho = lineas[index][0][0]\n",
    "    theta = lineas[index][0][1]\n",
    "\n",
    "    a = np.cos(theta)\n",
    "    b = np.sin(theta)\n",
    "\n",
    "    x_0 = a * rho\n",
    "    y_0 = b * rho\n",
    "    \n",
    "    x_1 = int(x_0 + 500*(-b))\n",
    "    y_1 = int(y_0 + 500*(a))\n",
    "\n",
    "    x_2 = int(x_0 - 500*(-b))\n",
    "    y_2 = int(y_0 - 500*(a))\n",
    "    \n",
    "    \n",
    "    #Con las coordenadas se puede trazar la línea\n",
    "    cv2.line(imagen_BGR, (x_1, y_1), (x_2, y_2), (0, 255, 0), 2)\n",
    "\n",
    "cv2.imshow(\"Imagen original\", imagen_BGR)\n",
    "cv2.imshow(\"Imagen con Cannyl\", imagen_con_canny)\n",
    "cv2.waitKey(15000)\n",
    "cv2.destroyAllWindows()"
   ]
  },
  {
   "cell_type": "markdown",
   "id": "060d82a2-c5c9-4f6f-a3dc-845366eeda8c",
   "metadata": {},
   "source": [
    "### Trasnformada de Hough probabilística"
   ]
  },
  {
   "cell_type": "code",
   "execution_count": 28,
   "id": "1cc23e97-7346-440b-9162-f031f7d0d884",
   "metadata": {},
   "outputs": [
    {
     "name": "stdout",
     "output_type": "stream",
     "text": [
      "[[[ 36 271 347 271]]\n",
      "\n",
      " [[ 36 268 339 268]]\n",
      "\n",
      " [[294   2 307 391]]\n",
      "\n",
      " [[148 325 152 202]]\n",
      "\n",
      " [[185 412 188 253]]\n",
      "\n",
      " [[188 410 193  94]]\n",
      "\n",
      " [[ 27 406  38 278]]\n",
      "\n",
      " [[226 390 226   1]]\n",
      "\n",
      " [[149 389 162   0]]\n",
      "\n",
      " [[299  83 306 311]]\n",
      "\n",
      " [[260   5 263 229]]\n",
      "\n",
      " [[228 390 228 154]]\n",
      "\n",
      " [[266 199 269 391]]\n",
      "\n",
      " [[ 45 159 209 159]]\n",
      "\n",
      " [[379  13 404 367]]\n",
      "\n",
      " [[107 407 125  62]]\n",
      "\n",
      " [[ 25 386  58   6]]\n",
      "\n",
      " [[336 157 348 392]]\n",
      "\n",
      " [[330   4 350 392]]\n",
      "\n",
      " [[107 356 123  62]]\n",
      "\n",
      " [[ 44 162 260 162]]\n",
      "\n",
      " [[ 51 127 154 127]]\n",
      "\n",
      " [[ 51 129 157 129]]\n",
      "\n",
      " [[385  13 409 368]]\n",
      "\n",
      " [[ 20 403 192 406]]\n",
      "\n",
      " [[374   0 397 335]]\n",
      "\n",
      " [[372 153 388 392]]\n",
      "\n",
      " [[ 54  94 248  97]]\n",
      "\n",
      " [[218 348 388 348]]\n",
      "\n",
      " [[283 391 390 392]]\n",
      "\n",
      " [[ 98 234 301 234]]\n",
      "\n",
      " [[365   1 388 337]]\n",
      "\n",
      " [[ 81 195 266 195]]\n",
      "\n",
      " [[ 41 197 222 197]]\n",
      "\n",
      " [[370   2 393 337]]\n",
      "\n",
      " [[ 42 231 166 231]]\n",
      "\n",
      " [[ 66 407  86 117]]\n",
      "\n",
      " [[ 81 157  91  26]]\n",
      "\n",
      " [[375 152 391 391]]\n",
      "\n",
      " [[199   9 368   0]]\n",
      "\n",
      " [[ 59 309 209 309]]\n",
      "\n",
      " [[ 90 307 237 307]]\n",
      "\n",
      " [[190 310 365 310]]\n",
      "\n",
      " [[257   7 368   3]]\n",
      "\n",
      " [[221 308 355 308]]\n",
      "\n",
      " [[191  45 342  37]]\n",
      "\n",
      " [[  1  11 141  11]]\n",
      "\n",
      " [[105 389 218 390]]\n",
      "\n",
      " [[ 50 346 163 347]]\n",
      "\n",
      " [[167 232 301 232]]\n",
      "\n",
      " [[329   5 342 267]]\n",
      "\n",
      " [[382  11 407 368]]\n",
      "\n",
      " [[188 350 388 350]]\n",
      "\n",
      " [[191  52 310  50]]\n",
      "\n",
      " [[139  67 245  67]]\n",
      "\n",
      " [[405  50 418 201]]\n",
      "\n",
      " [[ 67 349 208 349]]\n",
      "\n",
      " [[368  87 382 295]]\n",
      "\n",
      " [[ 60   8 182  10]]\n",
      "\n",
      " [[190 157 193  29]]\n",
      "\n",
      " [[372   1 395 334]]\n",
      "\n",
      " [[383  11 408 368]]\n",
      "\n",
      " [[145 385 150 251]]\n",
      "\n",
      " [[255  13 356   8]]\n",
      "\n",
      " [[229 178 229  44]]\n",
      "\n",
      " [[ 68  18 182  22]]\n",
      "\n",
      " [[ 43 233 149 233]]\n",
      "\n",
      " [[ 55   6 232   6]]\n",
      "\n",
      " [[  3  10 159  10]]\n",
      "\n",
      " [[407  50 418 179]]\n",
      "\n",
      " [[ 52  22 181  22]]\n",
      "\n",
      " [[ 39 277  48 152]]\n",
      "\n",
      " [[375   0 389 209]]\n",
      "\n",
      " [[199 160 300 160]]\n",
      "\n",
      " [[ 84 152  91  49]]\n",
      "\n",
      " [[282 163 382 157]]\n",
      "\n",
      " [[383  45 405 367]]\n",
      "\n",
      " [[374  46 385 201]]]\n"
     ]
    }
   ],
   "source": [
    "imagen_BGR = cv2.imread(\"C:\\\\Jupyter\\\\pdi\\\\imagenes\\\\sudoku.jpg\")\n",
    "imagen_GRAY = cv2.cvtColor(imagen_BGR, cv2.COLOR_BGR2GRAY)\n",
    "\n",
    "valor_umbral_min = 50\n",
    "valor_umbral_max = 100\n",
    "tamaño_kernel = 3\n",
    "imagen_con_canny = cv2.Canny(imagen_GRAY, valor_umbral_min, valor_umbral_max, apertureSize = tamaño_kernel)\n",
    "\n",
    "valor_umbral = 80 # si hay pixeles donde han pasado más de 175 líneas, crea una línea\n",
    "\n",
    "## Obteniendo las líneas a partir del método porbabilístico de la transformada de hough -> HouhgLinesP\n",
    "lineas = cv2.HoughLinesP(imagen_con_canny, rho = 1, theta = np.pi/180, threshold = valor_umbral, minLineLength = 100, maxLineGap = 15)\n",
    "print(lineas)\n",
    "\n",
    "for index in range(len(lineas)):\n",
    "    x_1, y_1, x_2, y_2 = lineas[index][0]\n",
    "    cv2.line(imagen_BGR, (x_1, y_1), (x_2, y_2), (0, 255, 0), 2)\n",
    "    \n",
    "\n",
    "\n",
    "cv2.imshow(\"Imagen original\", imagen_BGR)\n",
    "cv2.imshow(\"Imagen con Cannyl\", imagen_con_canny)\n",
    "cv2.waitKey(15000)\n",
    "cv2.destroyAllWindows()\n"
   ]
  },
  {
   "cell_type": "code",
   "execution_count": 36,
   "id": "dfa63a07-4ede-4164-8308-5d220cf50c13",
   "metadata": {},
   "outputs": [
    {
     "name": "stdout",
     "output_type": "stream",
     "text": [
      "[[[373 179 373   0]]\n",
      "\n",
      " [[ 86 114 201  39]]\n",
      "\n",
      " [[ 92 117 203  43]]\n",
      "\n",
      " [[154 130 257 159]]\n",
      "\n",
      " [[156 125 257 154]]]\n"
     ]
    }
   ],
   "source": [
    "imagen_BGR = cv2.imread(\"C:\\\\Jupyter\\\\pdi\\\\imagenes\\\\linea.png\")\n",
    "imagen_GRAY = cv2.cvtColor(imagen_BGR, cv2.COLOR_BGR2GRAY)\n",
    "\n",
    "valor_umbral_min = 50\n",
    "valor_umbral_max = 100\n",
    "tamaño_kernel = 3\n",
    "imagen_con_canny = cv2.Canny(imagen_GRAY, valor_umbral_min, valor_umbral_max, apertureSize = tamaño_kernel)\n",
    "\n",
    "valor_umbral = 45 # si hay pixeles donde han pasado más de 175 líneas, crea una línea\n",
    "\n",
    "## Obteniendo las líneas a partir del método porbabilístico de la transformada de hough -> HouhgLinesP\n",
    "lineas = cv2.HoughLinesP(imagen_con_canny, rho = 1, theta = np.pi/180, threshold = valor_umbral, minLineLength = 100, maxLineGap = 15)\n",
    "print(lineas)\n",
    "\n",
    "for index in range(len(lineas)):\n",
    "    x_1, y_1, x_2, y_2 = lineas[index][0]\n",
    "    cv2.line(imagen_BGR, (x_1, y_1), (x_2, y_2), (0, 255, 0), 2)\n",
    "    \n",
    "\n",
    "\n",
    "cv2.imshow(\"Imagen original\", imagen_BGR)\n",
    "cv2.imshow(\"Imagen con Cannyl\", imagen_con_canny)\n",
    "cv2.waitKey(15000)\n",
    "cv2.destroyAllWindows()"
   ]
  },
  {
   "cell_type": "markdown",
   "id": "5cee9ea7-640b-442e-b2ab-de3050924207",
   "metadata": {},
   "source": [
    "## Aplicando la trasnformada de Hough para imágenes con objetos circulares"
   ]
  },
  {
   "cell_type": "code",
   "execution_count": 45,
   "id": "88771086-101e-4223-8643-ba6ddbd4e94f",
   "metadata": {},
   "outputs": [
    {
     "name": "stdout",
     "output_type": "stream",
     "text": [
      "None\n"
     ]
    },
    {
     "ename": "TypeError",
     "evalue": "'NoneType' object is not subscriptable",
     "output_type": "error",
     "traceback": [
      "\u001b[1;31m---------------------------------------------------------------------------\u001b[0m",
      "\u001b[1;31mTypeError\u001b[0m                                 Traceback (most recent call last)",
      "Cell \u001b[1;32mIn[45], line 11\u001b[0m\n\u001b[0;32m      8\u001b[0m circulos \u001b[38;5;241m=\u001b[39m cv2\u001b[38;5;241m.\u001b[39mHoughCircles(imagen_con_Blur,cv2\u001b[38;5;241m.\u001b[39mHOUGH_GRADIENT, \u001b[38;5;241m3\u001b[39m, \u001b[38;5;241m110\u001b[39m, param1 \u001b[38;5;241m=\u001b[39m \u001b[38;5;241m150\u001b[39m, param2 \u001b[38;5;241m=\u001b[39m \u001b[38;5;241m100\u001b[39m, minRadius \u001b[38;5;241m=\u001b[39m \u001b[38;5;241m30\u001b[39m, maxRadius \u001b[38;5;241m=\u001b[39m \u001b[38;5;241m150\u001b[39m)\n\u001b[0;32m      9\u001b[0m \u001b[38;5;28mprint\u001b[39m(circulos)\n\u001b[1;32m---> 11\u001b[0m \u001b[38;5;28;01mfor\u001b[39;00m values \u001b[38;5;129;01min\u001b[39;00m \u001b[43mcirculos\u001b[49m\u001b[43m[\u001b[49m\u001b[38;5;241;43m0\u001b[39;49m\u001b[43m,\u001b[49m\u001b[43m:\u001b[49m\u001b[43m]\u001b[49m:\n\u001b[0;32m     12\u001b[0m     \u001b[38;5;28mprint\u001b[39m(values[\u001b[38;5;241m0\u001b[39m],values[\u001b[38;5;241m1\u001b[39m],values[\u001b[38;5;241m2\u001b[39m])\n\u001b[0;32m     13\u001b[0m     cv2\u001b[38;5;241m.\u001b[39mcircle(imagen_BGR,(\u001b[38;5;28mint\u001b[39m(values[\u001b[38;5;241m0\u001b[39m]),\u001b[38;5;28mint\u001b[39m(values[\u001b[38;5;241m1\u001b[39m])),\u001b[38;5;28mint\u001b[39m(values[\u001b[38;5;241m2\u001b[39m]),(\u001b[38;5;241m0\u001b[39m,\u001b[38;5;241m255\u001b[39m,\u001b[38;5;241m0\u001b[39m),\u001b[38;5;241m2\u001b[39m)\n",
      "\u001b[1;31mTypeError\u001b[0m: 'NoneType' object is not subscriptable"
     ]
    }
   ],
   "source": [
    "imagen_BGR = cv2.imread(\"C:\\\\Jupyter\\\\pdi\\\\imagenes\\\\linea.png\")\n",
    "imagen_GRAY = cv2.cvtColor(imagen_BGR, cv2.COLOR_BGR2GRAY)\n",
    "\n",
    "imagen_con_Blur = cv2.medianBlur(imagen_GRAY, 3)\n",
    "\n",
    "\n",
    "## Obteniendo las líneas a partir del método porbabilístico de la transformada de hough -> HouhgLinesP\n",
    "circulos = cv2.HoughCircles(imagen_con_Blur,cv2.HOUGH_GRADIENT, 3, 110, param1 = 150, param2 = 100, minRadius = 30, maxRadius = 150)\n",
    "print(circulos)\n",
    "\n",
    "for values in circulos[0,:]:\n",
    "    print(values[0],values[1],values[2])\n",
    "    cv2.circle(imagen_BGR,(int(values[0]),int(values[1])),int(values[2]),(0,255,0),2)\n",
    "\n",
    "\n",
    "cv2.imshow(\"Imagen con blur\", imagen_con_Blur)\n",
    "cv2.imshow(\"Imagen BGR\", imagen_BGR)\n",
    "cv2.waitKey(15000)\n",
    "cv2.destroyAllWindows()\n"
   ]
  },
  {
   "cell_type": "code",
   "execution_count": 46,
   "id": "8b69b18b-6f64-4164-bae3-3d3f37b327ca",
   "metadata": {},
   "outputs": [
    {
     "ename": "TypeError",
     "evalue": "'NoneType' object is not subscriptable",
     "output_type": "error",
     "traceback": [
      "\u001b[1;31m---------------------------------------------------------------------------\u001b[0m",
      "\u001b[1;31mTypeError\u001b[0m                                 Traceback (most recent call last)",
      "Cell \u001b[1;32mIn[46], line 11\u001b[0m\n\u001b[0;32m      7\u001b[0m image_with_Blur \u001b[38;5;241m=\u001b[39m cv2\u001b[38;5;241m.\u001b[39mmedianBlur(image_as_GRAY,\u001b[38;5;241m3\u001b[39m)\n\u001b[0;32m      9\u001b[0m circles \u001b[38;5;241m=\u001b[39m cv2\u001b[38;5;241m.\u001b[39mHoughCircles(image_with_Blur,cv2\u001b[38;5;241m.\u001b[39mHOUGH_GRADIENT, \u001b[38;5;241m3\u001b[39m, \u001b[38;5;241m110\u001b[39m, param1 \u001b[38;5;241m=\u001b[39m \u001b[38;5;241m150\u001b[39m, param2 \u001b[38;5;241m=\u001b[39m \u001b[38;5;241m100\u001b[39m, minRadius \u001b[38;5;241m=\u001b[39m \u001b[38;5;241m30\u001b[39m, maxRadius \u001b[38;5;241m=\u001b[39m \u001b[38;5;241m150\u001b[39m)\n\u001b[1;32m---> 11\u001b[0m \u001b[38;5;28;01mfor\u001b[39;00m values \u001b[38;5;129;01min\u001b[39;00m \u001b[43mcircles\u001b[49m\u001b[43m[\u001b[49m\u001b[38;5;241;43m0\u001b[39;49m\u001b[43m,\u001b[49m\u001b[43m:\u001b[49m\u001b[43m]\u001b[49m:\n\u001b[0;32m     12\u001b[0m     \u001b[38;5;28mprint\u001b[39m(values[\u001b[38;5;241m0\u001b[39m],values[\u001b[38;5;241m1\u001b[39m],values[\u001b[38;5;241m2\u001b[39m])\n\u001b[0;32m     13\u001b[0m     cv2\u001b[38;5;241m.\u001b[39mcircle(image_as_BGR,(\u001b[38;5;28mint\u001b[39m(values[\u001b[38;5;241m0\u001b[39m]),\u001b[38;5;28mint\u001b[39m(values[\u001b[38;5;241m1\u001b[39m])),\u001b[38;5;28mint\u001b[39m(values[\u001b[38;5;241m2\u001b[39m]),(\u001b[38;5;241m0\u001b[39m,\u001b[38;5;241m255\u001b[39m,\u001b[38;5;241m0\u001b[39m),\u001b[38;5;241m2\u001b[39m)\n",
      "\u001b[1;31mTypeError\u001b[0m: 'NoneType' object is not subscriptable"
     ]
    }
   ],
   "source": [
    "import cv2\n",
    "import numpy as np\n",
    "\n",
    "image_as_BGR = cv2.imread(\"C:\\\\Jupyter\\\\pdi\\\\imagenes\\\\linea.png\")\n",
    "image_as_GRAY = cv2.cvtColor(image_as_BGR,cv2.COLOR_BGR2GRAY)\n",
    "\n",
    "image_with_Blur = cv2.medianBlur(image_as_GRAY,3)\n",
    "\n",
    "circles = cv2.HoughCircles(image_with_Blur,cv2.HOUGH_GRADIENT, 3, 110, param1 = 150, param2 = 100, minRadius = 30, maxRadius = 150)\n",
    "\n",
    "for values in circles[0,:]:\n",
    "    print(values[0],values[1],values[2])\n",
    "    cv2.circle(image_as_BGR,(int(values[0]),int(values[1])),int(values[2]),(0,255,0),2)\n",
    "\n",
    "\n",
    "cv2.imshow(\"Imagen\",image_with_Blur)\n",
    "cv2.imshow(\"Imagen con canny\",image_as_BGR)\n",
    "cv2.waitKey()\n",
    "cv2.destroyAllWindows()"
   ]
  }
 ],
 "metadata": {
  "kernelspec": {
   "display_name": "Python 3 (ipykernel)",
   "language": "python",
   "name": "python3"
  },
  "language_info": {
   "codemirror_mode": {
    "name": "ipython",
    "version": 3
   },
   "file_extension": ".py",
   "mimetype": "text/x-python",
   "name": "python",
   "nbconvert_exporter": "python",
   "pygments_lexer": "ipython3",
   "version": "3.12.3"
  }
 },
 "nbformat": 4,
 "nbformat_minor": 5
}
