{
 "cells": [
  {
   "cell_type": "code",
   "execution_count": 1,
   "id": "422699a3-354e-4814-b27e-bf655fc2c388",
   "metadata": {},
   "outputs": [],
   "source": [
    "import cv2\n",
    "import numpy as np"
   ]
  },
  {
   "cell_type": "code",
   "execution_count": 4,
   "id": "0c26496c-663b-44d1-832c-f706fa6dcd48",
   "metadata": {},
   "outputs": [],
   "source": [
    "img = cv2.imread(\"C:\\\\Jupyter\\\\pdi\\\\imagenes\\\\imagenrgb.png\")"
   ]
  },
  {
   "cell_type": "code",
   "execution_count": 5,
   "id": "487df95b-ea35-4905-bcf7-fdc29195de8b",
   "metadata": {},
   "outputs": [],
   "source": [
    "b,g,r = cv2.split(img) \n",
    "\n",
    "## Lo anterior es equivalente a lo siguiente, en manejo de tuplas y slicing\n",
    "# b = img[:,:,0] # todas las filas, todas las columnas del plano 0 (azul)\n",
    "# g = img[:,:,1] # todas las filas, todas las columnas del plano 0 (verde)\n",
    "# r = img[:,:,2] # todas las filas, todas las columnas del plano 0 (rojo)\n",
    "\n",
    "cv2.imshow(\"ventana\",img)\n",
    "cv2.imshow(\"ventana azul\",b)\n",
    "cv2.imshow(\"Ventana verde\", g)\n",
    "cv2.imshow(\"Ventana rojo\", r)\n",
    "cv2.waitKey(7000)\n",
    "cv2.destroyAllWindows()"
   ]
  },
  {
   "cell_type": "code",
   "execution_count": 8,
   "id": "22b92331-af86-43ea-adb8-ad0c0fe03966",
   "metadata": {},
   "outputs": [
    {
     "name": "stdout",
     "output_type": "stream",
     "text": [
      "[[[0 0 0]\n",
      "  [0 0 0]\n",
      "  [0 0 0]\n",
      "  ...\n",
      "  [0 0 0]\n",
      "  [0 0 0]\n",
      "  [0 0 0]]\n",
      "\n",
      " [[0 0 0]\n",
      "  [0 0 0]\n",
      "  [0 0 0]\n",
      "  ...\n",
      "  [0 0 0]\n",
      "  [0 0 0]\n",
      "  [0 0 0]]\n",
      "\n",
      " [[0 0 0]\n",
      "  [0 0 0]\n",
      "  [0 0 0]\n",
      "  ...\n",
      "  [0 0 0]\n",
      "  [0 0 0]\n",
      "  [0 0 0]]\n",
      "\n",
      " ...\n",
      "\n",
      " [[0 0 0]\n",
      "  [0 0 0]\n",
      "  [0 0 0]\n",
      "  ...\n",
      "  [0 0 0]\n",
      "  [0 0 0]\n",
      "  [0 0 0]]\n",
      "\n",
      " [[0 0 0]\n",
      "  [0 0 0]\n",
      "  [0 0 0]\n",
      "  ...\n",
      "  [0 0 0]\n",
      "  [0 0 0]\n",
      "  [0 0 0]]\n",
      "\n",
      " [[0 0 0]\n",
      "  [0 0 0]\n",
      "  [0 0 0]\n",
      "  ...\n",
      "  [0 0 0]\n",
      "  [0 0 0]\n",
      "  [0 0 0]]] <class 'numpy.ndarray'>\n"
     ]
    }
   ],
   "source": [
    "## Mostrando una sola banda\n",
    "img[:,:,0] = 0 # anulando todas los pixeles del azul\n",
    "img[:,:,1] = 0 # anulando todas los pixeles del verde\n",
    "\n",
    "print(img, type(img))\n",
    "cv2.imshow(\"ventana\",img)\n",
    "#cv2.imshow(\"ventana azul\",b)\n",
    "#cv2.imshow(\"Ventana verde\", g)\n",
    "#cv2.imshow(\"Ventana rojo\", r)\n",
    "cv2.waitKey(7000)\n",
    "cv2.destroyAllWindows()\n"
   ]
  },
  {
   "cell_type": "code",
   "execution_count": 9,
   "id": "bf47dccf-2ea3-4dd9-941d-7620c3b25ede",
   "metadata": {},
   "outputs": [
    {
     "name": "stdout",
     "output_type": "stream",
     "text": [
      "[[[0 0 0]\n",
      "  [0 0 0]\n",
      "  [0 0 0]\n",
      "  ...\n",
      "  [0 0 0]\n",
      "  [0 0 0]\n",
      "  [0 0 0]]\n",
      "\n",
      " [[0 0 0]\n",
      "  [0 0 0]\n",
      "  [0 0 0]\n",
      "  ...\n",
      "  [0 0 0]\n",
      "  [0 0 0]\n",
      "  [0 0 0]]\n",
      "\n",
      " [[0 0 0]\n",
      "  [0 0 0]\n",
      "  [0 0 0]\n",
      "  ...\n",
      "  [0 0 0]\n",
      "  [0 0 0]\n",
      "  [0 0 0]]\n",
      "\n",
      " ...\n",
      "\n",
      " [[0 0 0]\n",
      "  [0 0 0]\n",
      "  [0 0 0]\n",
      "  ...\n",
      "  [0 0 0]\n",
      "  [0 0 0]\n",
      "  [0 0 0]]\n",
      "\n",
      " [[0 0 0]\n",
      "  [0 0 0]\n",
      "  [0 0 0]\n",
      "  ...\n",
      "  [0 0 0]\n",
      "  [0 0 0]\n",
      "  [0 0 0]]\n",
      "\n",
      " [[0 0 0]\n",
      "  [0 0 0]\n",
      "  [0 0 0]\n",
      "  ...\n",
      "  [0 0 0]\n",
      "  [0 0 0]\n",
      "  [0 0 0]]] <class 'numpy.ndarray'> (225, 225, 3) uint8\n"
     ]
    }
   ],
   "source": [
    "img = cv2.imread(\"C:\\\\Jupyter\\\\pdi\\\\imagenes\\\\mario.jpg\")\n",
    "\n",
    "\n",
    "## Mostrando una sola banda\n",
    "img[:,:,0] = 0 # anulando todas los pixeles del azul\n",
    "img[:,:,1] = 0 # anulando todas los pixeles del verde\n",
    "#img[:,:,2] = 0 # anulando todas los pixeles del verde\n",
    "\n",
    "print(img, type(img), img.shape, img.dtype)\n",
    "cv2.imshow(\"ventana\",img)\n",
    "#cv2.imshow(\"ventana azul\",b)\n",
    "#cv2.imshow(\"Ventana verde\", g)\n",
    "#cv2.imshow(\"Ventana rojo\", r)\n",
    "cv2.waitKey(7000)\n",
    "cv2.destroyAllWindows()"
   ]
  },
  {
   "cell_type": "markdown",
   "id": "73ba8336-11e7-42ad-9b39-15215b6394e0",
   "metadata": {},
   "source": [
    "## Operaciones aritméticas bit a bit con AND (en AND el pixel menor manda)"
   ]
  },
  {
   "cell_type": "code",
   "execution_count": 7,
   "id": "732a5f03-935d-4b51-8170-51eca3e15c91",
   "metadata": {},
   "outputs": [
    {
     "name": "stdout",
     "output_type": "stream",
     "text": [
      "Help on built-in function bitwise_and:\n",
      "\n",
      "bitwise_and(...)\n",
      "    bitwise_and(src1, src2[, dst[, mask]]) -> dst\n",
      "    .   @brief computes bitwise conjunction of the two arrays (dst = src1 & src2)\n",
      "    .   Calculates the per-element bit-wise conjunction of two arrays or an\n",
      "    .   array and a scalar.\n",
      "    .\n",
      "    .   The function cv::bitwise_and calculates the per-element bit-wise logical conjunction for:\n",
      "    .   *   Two arrays when src1 and src2 have the same size:\n",
      "    .       \\f[\\texttt{dst} (I) =  \\texttt{src1} (I)  \\wedge \\texttt{src2} (I) \\quad \\texttt{if mask} (I) \\ne0\\f]\n",
      "    .   *   An array and a scalar when src2 is constructed from Scalar or has\n",
      "    .       the same number of elements as `src1.channels()`:\n",
      "    .       \\f[\\texttt{dst} (I) =  \\texttt{src1} (I)  \\wedge \\texttt{src2} \\quad \\texttt{if mask} (I) \\ne0\\f]\n",
      "    .   *   A scalar and an array when src1 is constructed from Scalar or has\n",
      "    .       the same number of elements as `src2.channels()`:\n",
      "    .       \\f[\\texttt{dst} (I) =  \\texttt{src1}  \\wedge \\texttt{src2} (I) \\quad \\texttt{if mask} (I) \\ne0\\f]\n",
      "    .   In case of floating-point arrays, their machine-specific bit\n",
      "    .   representations (usually IEEE754-compliant) are used for the operation.\n",
      "    .   In case of multi-channel arrays, each channel is processed\n",
      "    .   independently. In the second and third cases above, the scalar is first\n",
      "    .   converted to the array type.\n",
      "    .   @param src1 first input array or a scalar.\n",
      "    .   @param src2 second input array or a scalar.\n",
      "    .   @param dst output array that has the same size and type as the input\n",
      "    .   arrays.\n",
      "    .   @param mask optional operation mask, 8-bit single channel array, that\n",
      "    .   specifies elements of the output array to be changed.\n",
      "\n"
     ]
    }
   ],
   "source": [
    "help(cv2.bitwise_and)"
   ]
  },
  {
   "cell_type": "markdown",
   "id": "09c868b4-9426-47f1-bab4-873d16e87a1f",
   "metadata": {},
   "source": [
    "#### Multiplicación de una sola banda de la imagen con otra imagen creada"
   ]
  },
  {
   "cell_type": "code",
   "execution_count": 16,
   "id": "f9571eaf-b65e-47d4-9aab-ef7b634d0c1f",
   "metadata": {},
   "outputs": [],
   "source": [
    "## Se multiplica (AND) la imagen de mario que tiene 225, 225 pixeles por una imagen del mismo tamaño creada artificalmente. En este caso solo utilizamos una banda de la imagen, la del azul (0)\n",
    "img_mario = cv2.imread(\"C:\\\\Jupyter\\\\pdi\\\\imagenes\\\\mario.jpg\", 0)\n",
    "img_creada = np.zeros((225, 225), dtype = np.uint8)\n",
    "\n",
    "cv2.circle(img_creada, (128, 128), 50, 255, -1)\n",
    "AND = cv2.bitwise_and(img_creada, img_mario)\n",
    "\n",
    "cv2.imshow(\"ventana\", img_mario)\n",
    "cv2.imshow(\"ventana img_ nueva\", img_creada)\n",
    "cv2.imshow(\"Imagen resultante\", AND)\n",
    "cv2.waitKey(7000)\n",
    "cv2.destroyAllWindows()"
   ]
  },
  {
   "cell_type": "markdown",
   "id": "762265b4-7062-4cd7-b031-c172d6760449",
   "metadata": {},
   "source": [
    "#### Multiplicación de todas las bandas de la imagen con otra de una sola banda. Esto se conoce como máscara"
   ]
  },
  {
   "cell_type": "code",
   "execution_count": 20,
   "id": "4a38ca49-1154-49c6-8ea4-8ca3fdaa4d02",
   "metadata": {},
   "outputs": [],
   "source": [
    "## Se multiplica (AND) la imagen de mario que tiene 225, 225 pixeles por una imagen del mismo tamaño creada artificalmente. En este caso solo utilizamos una banda de la imagen, la del azul (0)\n",
    "img_mario = cv2.imread(\"C:\\\\Jupyter\\\\pdi\\\\imagenes\\\\mario.jpg\")\n",
    "img_creada = np.zeros((225, 225), dtype = np.uint8)\n",
    "\n",
    "cv2.circle(img_creada, (128, 128), 50, 255, -1)\n",
    "AND = cv2.bitwise_and(img_mario, img_mario, mask = img_creada)\n",
    "\n",
    "cv2.imshow(\"ventana\", img_mario)\n",
    "cv2.imshow(\"ventana img_ nueva\", img_creada)\n",
    "cv2.imshow(\"Imagen resultante\", AND)\n",
    "cv2.waitKey(7000)\n",
    "cv2.destroyAllWindows()"
   ]
  },
  {
   "cell_type": "markdown",
   "id": "5ca37e6e-ac43-4f48-8f2c-55ea1b902708",
   "metadata": {},
   "source": [
    "#### Otra forma"
   ]
  },
  {
   "cell_type": "code",
   "execution_count": 30,
   "id": "a5cca09f-1842-47da-9819-2efe13c3023d",
   "metadata": {},
   "outputs": [],
   "source": [
    "## Se multiplica (AND) la imagen de mario que tiene 225, 225 pixeles por una imagen del mismo tamaño creada artificalmente. En este caso solo utilizamos una banda de la imagen, la del azul (0)\n",
    "img_mario = cv2.imread(\"C:\\\\Jupyter\\\\pdi\\\\imagenes\\\\mario.jpg\")\n",
    "img_creada = np.zeros((225, 225, 3), dtype = np.uint8)\n",
    "\n",
    "cv2.circle(img_creada, (128, 128), 50, (255, 255, 255), -1)\n",
    "AND = cv2.bitwise_and(img_creada, img_mario)\n",
    "\n",
    "cv2.imshow(\"ventana\", img_mario)\n",
    "cv2.imshow(\"ventana img_ nueva\", img_creada)\n",
    "cv2.imshow(\"Imagen resultante\", AND)\n",
    "cv2.waitKey(7000)\n",
    "cv2.destroyAllWindows()"
   ]
  },
  {
   "cell_type": "markdown",
   "id": "24b29813-6569-437b-8a70-8934c8119844",
   "metadata": {},
   "source": [
    "## Operaciones aritméticas bit a bit con OR (el mayor valor manda)"
   ]
  },
  {
   "cell_type": "code",
   "execution_count": 32,
   "id": "bc8061b4-796f-4f6b-b6fb-fed6fffafe6d",
   "metadata": {},
   "outputs": [],
   "source": [
    "img_mario = cv2.imread(\"C:\\\\Jupyter\\\\pdi\\\\imagenes\\\\mario.jpg\", 0)\n",
    "img_creada = np.zeros((225, 225), dtype = np.uint8)\n",
    "\n",
    "cv2.circle(img_creada, (128, 128), 50, 255, -1)\n",
    "OR= cv2.bitwise_or(img_mario, img_creada)\n",
    "\n",
    "cv2.imshow(\"ventana\", img_mario)\n",
    "cv2.imshow(\"ventana img_ nueva\", img_creada)\n",
    "cv2.imshow(\"Imagen resultante\", OR)\n",
    "cv2.waitKey(10000)\n",
    "cv2.destroyAllWindows()"
   ]
  },
  {
   "cell_type": "markdown",
   "id": "f8a912ed-4d24-4cd1-9d34-08ff5a0caf11",
   "metadata": {},
   "source": [
    "#### Utilizando las tres bandas"
   ]
  },
  {
   "cell_type": "code",
   "execution_count": 35,
   "id": "a23cc869-d96c-4f3c-bae6-b61007ccca10",
   "metadata": {},
   "outputs": [],
   "source": [
    "img_mario = cv2.imread(\"C:\\\\Jupyter\\\\pdi\\\\imagenes\\\\mario.jpg\")\n",
    "img_creada = np.zeros((225, 225, 3), dtype = np.uint8)\n",
    "\n",
    "cv2.circle(img_creada, (128, 128), 50, (255, 255, 255), -1)\n",
    "OR= cv2.bitwise_or(img_mario, img_creada)\n",
    "\n",
    "cv2.imshow(\"ventana\", img_mario)\n",
    "cv2.imshow(\"ventana img_ nueva\", img_creada)\n",
    "cv2.imshow(\"Imagen resultante\", OR)\n",
    "cv2.waitKey(10000)\n",
    "cv2.destroyAllWindows()"
   ]
  },
  {
   "cell_type": "markdown",
   "id": "1e3d3ed2-fe45-45c3-b16f-f9ef49806c21",
   "metadata": {},
   "source": [
    "## Operaciones aritméticas bit a bit con NOT"
   ]
  },
  {
   "cell_type": "code",
   "execution_count": 40,
   "id": "41be823b-06f7-4d16-91e4-928bcfc7fa11",
   "metadata": {},
   "outputs": [],
   "source": [
    "img_mario = cv2.imread(\"C:\\\\Jupyter\\\\pdi\\\\imagenes\\\\mario.jpg\")\n",
    "img_creada = np.zeros((225, 225, 3), dtype = np.uint8)\n",
    "\n",
    "cv2.circle(img_creada, (128, 128), 50, (255, 255, 255), -1)\n",
    "OR = cv2.bitwise_or(img_mario, img_creada)\n",
    "NOT = cv2.bitwise_not(img_creada)\n",
    "\n",
    "cv2.imshow(\"ventana\", img_mario)\n",
    "cv2.imshow(\"ventana img_ nueva\", img_creada)\n",
    "cv2.imshow(\"Imagen resultante\", OR)\n",
    "cv2.imshow('Imagen not', NOT)\n",
    "cv2.waitKey(15000)\n",
    "cv2.destroyAllWindows()"
   ]
  },
  {
   "cell_type": "code",
   "execution_count": null,
   "id": "8608a906-fba6-43e6-8983-db83570b0c26",
   "metadata": {},
   "outputs": [],
   "source": []
  }
 ],
 "metadata": {
  "kernelspec": {
   "display_name": "Python 3 (ipykernel)",
   "language": "python",
   "name": "python3"
  },
  "language_info": {
   "codemirror_mode": {
    "name": "ipython",
    "version": 3
   },
   "file_extension": ".py",
   "mimetype": "text/x-python",
   "name": "python",
   "nbconvert_exporter": "python",
   "pygments_lexer": "ipython3",
   "version": "3.12.3"
  }
 },
 "nbformat": 4,
 "nbformat_minor": 5
}
