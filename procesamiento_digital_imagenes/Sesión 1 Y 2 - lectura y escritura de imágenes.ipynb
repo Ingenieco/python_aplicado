{
 "cells": [
  {
   "cell_type": "code",
   "execution_count": 1,
   "id": "85da586b-00a5-4fcb-bd9e-62c56132da4f",
   "metadata": {},
   "outputs": [],
   "source": [
    "import numpy as np\n",
    "import cv2\n",
    "import os"
   ]
  },
  {
   "cell_type": "code",
   "execution_count": 2,
   "id": "1e0c37a8-a39a-49a3-93dd-85127d140772",
   "metadata": {},
   "outputs": [
    {
     "data": {
      "text/plain": [
       "'C:\\\\jupyter\\\\pdi'"
      ]
     },
     "execution_count": 2,
     "metadata": {},
     "output_type": "execute_result"
    }
   ],
   "source": [
    "os.getcwd()"
   ]
  },
  {
   "cell_type": "code",
   "execution_count": 3,
   "id": "612e76ab-7730-48d7-8718-6dcb47eff045",
   "metadata": {},
   "outputs": [],
   "source": [
    "img = cv2.imread(\"C:\\\\Jupyter\\\\pdi\\\\imagenes\\\\satelite.jpg\")"
   ]
  },
  {
   "cell_type": "code",
   "execution_count": 6,
   "id": "06f0e528-b6e8-484f-a4ca-1496c8d001da",
   "metadata": {},
   "outputs": [],
   "source": [
    "## Leyendo una imagen. imshow muestra la imagen en un pesatañeo, por eso se agrega witkey que espera en segundos antes de cerrarse la ventana emergente, en conjunto con destroyAllWindows\n",
    "cv2.imshow('Ventana', img)\n",
    "cv2.waitKey(5000) ## 5000 son 5 segundos. Es el tiempo que se mostrará la imagen\n",
    "cv2.destroyAllWindows()"
   ]
  },
  {
   "cell_type": "code",
   "execution_count": 7,
   "id": "560848d4-79a9-479d-ace6-ebbd97adb988",
   "metadata": {},
   "outputs": [],
   "source": [
    "## Para guardar una imagen\n",
    "cv2.imshow('Ventana', img)\n",
    "if cv2.waitKey(0) == 97:\n",
    "    cv2.imwrite(\"C:\\\\Jupyter\\\\pdi\\\\imagenes\\\\satelite2.jpg\", img)\n",
    "cv2.destroyAllWindows()"
   ]
  },
  {
   "cell_type": "code",
   "execution_count": 8,
   "id": "48d4d2da-a728-4c9b-bf93-6b521376a96b",
   "metadata": {},
   "outputs": [
    {
     "name": "stdout",
     "output_type": "stream",
     "text": [
      "Help on built-in function zeros in module numpy:\n",
      "\n",
      "zeros(...)\n",
      "    zeros(shape, dtype=float, order='C', *, like=None)\n",
      "\n",
      "    Return a new array of given shape and type, filled with zeros.\n",
      "\n",
      "    Parameters\n",
      "    ----------\n",
      "    shape : int or tuple of ints\n",
      "        Shape of the new array, e.g., ``(2, 3)`` or ``2``.\n",
      "    dtype : data-type, optional\n",
      "        The desired data-type for the array, e.g., `numpy.int8`.  Default is\n",
      "        `numpy.float64`.\n",
      "    order : {'C', 'F'}, optional, default: 'C'\n",
      "        Whether to store multi-dimensional data in row-major\n",
      "        (C-style) or column-major (Fortran-style) order in\n",
      "        memory.\n",
      "    like : array_like, optional\n",
      "        Reference object to allow the creation of arrays which are not\n",
      "        NumPy arrays. If an array-like passed in as ``like`` supports\n",
      "        the ``__array_function__`` protocol, the result will be defined\n",
      "        by it. In this case, it ensures the creation of an array object\n",
      "        compatible with that passed in via this argument.\n",
      "\n",
      "        .. versionadded:: 1.20.0\n",
      "\n",
      "    Returns\n",
      "    -------\n",
      "    out : ndarray\n",
      "        Array of zeros with the given shape, dtype, and order.\n",
      "\n",
      "    See Also\n",
      "    --------\n",
      "    zeros_like : Return an array of zeros with shape and type of input.\n",
      "    empty : Return a new uninitialized array.\n",
      "    ones : Return a new array setting values to one.\n",
      "    full : Return a new array of given shape filled with value.\n",
      "\n",
      "    Examples\n",
      "    --------\n",
      "    >>> np.zeros(5)\n",
      "    array([ 0.,  0.,  0.,  0.,  0.])\n",
      "\n",
      "    >>> np.zeros((5,), dtype=int)\n",
      "    array([0, 0, 0, 0, 0])\n",
      "\n",
      "    >>> np.zeros((2, 1))\n",
      "    array([[ 0.],\n",
      "           [ 0.]])\n",
      "\n",
      "    >>> s = (2,2)\n",
      "    >>> np.zeros(s)\n",
      "    array([[ 0.,  0.],\n",
      "           [ 0.,  0.]])\n",
      "\n",
      "    >>> np.zeros((2,), dtype=[('x', 'i4'), ('y', 'i4')]) # custom dtype\n",
      "    array([(0, 0), (0, 0)],\n",
      "          dtype=[('x', '<i4'), ('y', '<i4')])\n",
      "\n"
     ]
    }
   ],
   "source": [
    "help(np.zeros)"
   ]
  },
  {
   "cell_type": "markdown",
   "id": "9f30d415-da9e-4236-acf9-b7164393f0d0",
   "metadata": {},
   "source": [
    "### Creando una matriz y creando una imagen con todos los pixeles en 0, es decir negro"
   ]
  },
  {
   "cell_type": "code",
   "execution_count": 12,
   "id": "9e1fc717-349e-4b68-8e64-9ce406a5f695",
   "metadata": {},
   "outputs": [],
   "source": [
    "z = np.zeros((400, 400), dtype = np.uint8)  # filas y columnas"
   ]
  },
  {
   "cell_type": "code",
   "execution_count": 13,
   "id": "f8a19527-8876-4aa7-93b9-75fb519f946c",
   "metadata": {},
   "outputs": [],
   "source": [
    "## Mostrando la imagen. Como se creó una matriz de ceros, entonces los pixeles son negros\n",
    "cv2.imshow('Ventana', z)\n",
    "cv2.waitKey(5000) ## 5000 son 5 segundos. Es el tiempo que se mostrará la imagen\n",
    "cv2.destroyAllWindows()"
   ]
  },
  {
   "cell_type": "markdown",
   "id": "b92b249a-beb0-44d9-9bc9-b1679d27a8ec",
   "metadata": {},
   "source": [
    "### Creando una matriz de pixeles en gris, adicionando 125"
   ]
  },
  {
   "cell_type": "code",
   "execution_count": 12,
   "id": "06d915e6-183a-47b1-bd7b-00a73b9e9050",
   "metadata": {},
   "outputs": [],
   "source": [
    "z = np.zeros((400, 400), dtype = np.uint8)  # filas y columnas"
   ]
  },
  {
   "cell_type": "code",
   "execution_count": 13,
   "id": "50ed1a3c-5121-4c6d-8ebf-5f5736b00e13",
   "metadata": {},
   "outputs": [],
   "source": [
    "## Mostrando la imagen. Como se creó una matriz de ceros, entonces los pixeles son negros\n",
    "cv2.imshow('Ventana', z)\n",
    "cv2.waitKey(5000) ## 5000 son 5 segundos. Es el tiempo que se mostrará la imagen\n",
    "cv2.destroyAllWindows()"
   ]
  },
  {
   "cell_type": "markdown",
   "id": "4e9cbafe-e70f-44fa-832a-91afec8e8403",
   "metadata": {},
   "source": [
    "### Funciones de dibujo - Línea"
   ]
  },
  {
   "cell_type": "code",
   "execution_count": 14,
   "id": "8b9de612-b8cf-4029-947f-bb638e869b7e",
   "metadata": {},
   "outputs": [],
   "source": [
    "z = np.zeros((400, 400), dtype = np.uint8) "
   ]
  },
  {
   "cell_type": "code",
   "execution_count": 15,
   "id": "e9f86142-f441-46e7-a759-0423c1b2660f",
   "metadata": {},
   "outputs": [
    {
     "data": {
      "text/plain": [
       "array([[0, 0, 0, ..., 0, 0, 0],\n",
       "       [0, 0, 0, ..., 0, 0, 0],\n",
       "       [0, 0, 0, ..., 0, 0, 0],\n",
       "       ...,\n",
       "       [0, 0, 0, ..., 0, 0, 0],\n",
       "       [0, 0, 0, ..., 0, 0, 0],\n",
       "       [0, 0, 0, ..., 0, 0, 0]], dtype=uint8)"
      ]
     },
     "execution_count": 15,
     "metadata": {},
     "output_type": "execute_result"
    }
   ],
   "source": [
    "cv2.line(z, (10, 10), (350, 350), 125) ## se ponen 2 puntos de x,y. Siendo  porque esta imagen solo tiene un canal. y 125 es el colo de la línea. X -es columna, y -filas"
   ]
  },
  {
   "cell_type": "code",
   "execution_count": 16,
   "id": "49df8859-981f-4873-8840-a5e08c34cf5c",
   "metadata": {},
   "outputs": [],
   "source": [
    "## Mostrando la imagen. Como se creó una matriz de ceros, entonces los pixeles son negros\n",
    "cv2.imshow('Ventana', z)\n",
    "cv2.waitKey(5000) ## 5000 son 5 segundos. Es el tiempo que se mostrará la imagen\n",
    "cv2.destroyAllWindows()"
   ]
  },
  {
   "cell_type": "code",
   "execution_count": 23,
   "id": "a9eb24d0-9b48-49f7-9f53-6677348ce19b",
   "metadata": {},
   "outputs": [],
   "source": [
    "## Línea vertical con 3 canales (400, 400, 3)\n",
    "\n",
    "z = np.zeros((400, 400, 3), dtype = np.uint8) ## dimensiones de x,y,z\n",
    "cv2.line(z, (200, 0), (200, 399), (0, 0, 255), 4) #200 es x = columna; 0 es y, que es igual a fila\n",
    "\n",
    "## Mostrando la imagen. Como se creó una matriz de ceros, entonces los pixeles son negros\n",
    "cv2.imshow('Ventana', z)\n",
    "cv2.waitKey(5000) ## 5000 son 5 segundos. Es el tiempo que se mostrará la imagen\n",
    "cv2.destroyAllWindows()"
   ]
  },
  {
   "cell_type": "code",
   "execution_count": 24,
   "id": "8102d7bb-2f3c-4a99-b7f7-b08cfdb11db2",
   "metadata": {},
   "outputs": [],
   "source": [
    "## Línea horizontal con 3 canales (400, 400, 3)\n",
    "\n",
    "z = np.zeros((400, 400, 3), dtype = np.uint8) ## dimensiones de x,y,z\n",
    "cv2.line(z, (0, 200), (399, 200), (0, 0, 255), 4) #0 es x = columna; 200 es y, que es igual a fila\n",
    "\n",
    "## Mostrando la imagen. Como se creó una matriz de ceros, entonces los pixeles son negros\n",
    "cv2.imshow('Ventana', z)\n",
    "cv2.waitKey(5000) ## 5000 son 5 segundos. Es el tiempo que se mostrará la imagen\n",
    "cv2.destroyAllWindows()"
   ]
  },
  {
   "cell_type": "markdown",
   "id": "a4ad322d-ee78-4745-8634-17632548d4e9",
   "metadata": {},
   "source": [
    "### Dibujando rectángulos"
   ]
  },
  {
   "cell_type": "code",
   "execution_count": 44,
   "id": "01297e76-0c24-493d-b61f-9c9ed3bd0fbf",
   "metadata": {},
   "outputs": [],
   "source": [
    "z = np.zeros((400, 400, 3), dtype = np.uint8) ## dimensiones de x,y,z\n",
    "cv2.rectangle(z, (50, 50), (350, 350), (0,255, 0), 4) # la primera coordenada es la superior izquierda (50, 50) y la segunda (350, 350) es la inferior derecha\n",
    "\n",
    "## Mostrando la imagen. Como se creó una matriz de ceros, entonces los pixeles son negros\n",
    "cv2.imshow('Ventana', z)\n",
    "cv2.waitKey(5000) ## 5000 son 5 segundos. Es el tiempo que se mostrará la imagen\n",
    "cv2.destroyAllWindows()"
   ]
  },
  {
   "cell_type": "markdown",
   "id": "f1e69bd4-a42a-46a0-acd7-4ade72e49a27",
   "metadata": {},
   "source": [
    "### Analizando la matriz para la imagen "
   ]
  },
  {
   "cell_type": "code",
   "execution_count": 32,
   "id": "c31992c4-dadc-431a-96e2-b13e69ab85fb",
   "metadata": {},
   "outputs": [
    {
     "name": "stdout",
     "output_type": "stream",
     "text": [
      "[[ 20  20  20 ...  20  20  22]\n",
      " [ 20  20  20 ...  19  18  19]\n",
      " [ 20  20  20 ...  19  20  22]\n",
      " ...\n",
      " [191 181 185 ...  39  40  41]\n",
      " [188 185 191 ...  35  37  40]\n",
      " [187 153 150 ...  34  31  30]] <class 'numpy.ndarray'> 2 (1280, 1920) uint8\n"
     ]
    }
   ],
   "source": [
    "## Leyendo una imagen. imshow muestra la imagen en un pesatañeo, por eso se agrega witkey que espera en segundos antes de cerrarse la ventana emergente, en conjunto con destroyAllWindows\n",
    "img = cv2.imread(\"C:\\\\Jupyter\\\\pdi\\\\imagenes\\\\satelite.jpg\", 0) # - 1 para conservar transparencia en una imagen; 0 para  leer la imagen en escala de gris; 1 es \n",
    "print(img, type(img), img.ndim, img.shape, img.dtype) # img.dtype muestra el rango de valores que toma cada pixel; ndim = número de canales; \n",
    "cv2.imshow('Ventana', img)\n",
    "cv2.waitKey(5000) ## 5000 son 5 segundos. Es el tiempo que se mostrará la imagen\n",
    "cv2.destroyAllWindows()"
   ]
  },
  {
   "cell_type": "code",
   "execution_count": 35,
   "id": "60e6a3d7-b1e4-4642-a1bf-d11053843e61",
   "metadata": {},
   "outputs": [
    {
     "name": "stdout",
     "output_type": "stream",
     "text": [
      "[[ 20  20  20 ...  20  20  22]\n",
      " [ 20  20  20 ...  19  18  19]\n",
      " [ 20  20  20 ...  19  20  22]\n",
      " ...\n",
      " [191 181 185 ...  39  40  41]\n",
      " [188 185 191 ...  35  37  40]\n",
      " [187 153 150 ...  34  31  30]] <class 'numpy.ndarray'> 2 (1280, 1920) uint8\n"
     ]
    }
   ],
   "source": [
    "## leyendo la imagen en escala de grises, ya no los tres canales, en la función de imread, sería el valor de 0\n",
    "## Leyendo una imagen. imshow muestra la imagen en un pesatañeo, por eso se agrega witkey que espera en segundos antes de cerrarse la ventana emergente, en conjunto con destroyAllWindows\n",
    "print(img, type(img), img.ndim, img.shape, img.dtype) # img.dtype muestra el rango de valores que toma cada pixel; ndim = número de canales; \n",
    "cv2.imshow('Ventana', img)\n",
    "cv2.waitKey(5000) ## 5000 son 5 segundos. Es el tiempo que se mostrará la imagen\n",
    "cv2.destroyAllWindows()"
   ]
  },
  {
   "cell_type": "markdown",
   "id": "67de596d-ec1c-4f1d-b9ae-2b8b4bfe6ce6",
   "metadata": {},
   "source": [
    "### Adicionando un rectángulo a uma imagen"
   ]
  },
  {
   "cell_type": "code",
   "execution_count": 47,
   "id": "36e19abd-455a-4927-99e1-5dac5f2d6786",
   "metadata": {},
   "outputs": [
    {
     "name": "stdout",
     "output_type": "stream",
     "text": [
      "[[[173  96   0]\n",
      "  [173  96   0]\n",
      "  [173  96   0]\n",
      "  ...\n",
      "  [173  96   0]\n",
      "  [173  96   0]\n",
      "  [173  96   0]]\n",
      "\n",
      " [[173  96   0]\n",
      "  [173  96   0]\n",
      "  [173  96   0]\n",
      "  ...\n",
      "  [173  96   0]\n",
      "  [173  96   0]\n",
      "  [173  96   0]]\n",
      "\n",
      " [[173  96   0]\n",
      "  [173  96   0]\n",
      "  [173  96   0]\n",
      "  ...\n",
      "  [173  96   0]\n",
      "  [173  96   0]\n",
      "  [173  96   0]]\n",
      "\n",
      " ...\n",
      "\n",
      " [[173  96   0]\n",
      "  [173  96   0]\n",
      "  [173  96   0]\n",
      "  ...\n",
      "  [173  96   0]\n",
      "  [173  96   0]\n",
      "  [173  96   0]]\n",
      "\n",
      " [[173  96   0]\n",
      "  [173  96   0]\n",
      "  [173  96   0]\n",
      "  ...\n",
      "  [173  96   0]\n",
      "  [173  96   0]\n",
      "  [173  96   0]]\n",
      "\n",
      " [[173  96   0]\n",
      "  [173  96   0]\n",
      "  [173  96   0]\n",
      "  ...\n",
      "  [173  96   0]\n",
      "  [173  96   0]\n",
      "  [173  96   0]]] <class 'numpy.ndarray'> 3 (225, 225, 3) uint8\n"
     ]
    }
   ],
   "source": [
    "## Leyendo una imagen. imshow muestra la imagen en un pesatañeo, por eso se agrega witkey que espera en segundos antes de cerrarse la ventana emergente, en conjunto con destroyAllWindows\n",
    "img = cv2.imread(\"C:\\\\Jupyter\\\\pdi\\\\imagenes\\\\mario.jpg\")\n",
    "print(img, type(img), img.ndim, img.shape, img.dtype) # img.dtype muestra el rango de valores que toma cada pixel; ndim = número de canales; \n",
    "cv2.rectangle(img, (23, 27), (195, 202), (0,255, 0)) #envuelve la cara de mario\n",
    "cv2.imshow('Ventana', img)\n",
    "cv2.waitKey(10000) ## 5000 son 5 segundos. Es el tiempo que se mostrará la imagen\n",
    "cv2.destroyAllWindows()"
   ]
  },
  {
   "cell_type": "markdown",
   "id": "afb29fef-6359-49a5-a662-81dc8e0931b1",
   "metadata": {},
   "source": [
    "### Adicionando un círculo a uma imagen"
   ]
  },
  {
   "cell_type": "code",
   "execution_count": 7,
   "id": "08381119-8efe-4fb7-85ff-7694a102ea49",
   "metadata": {},
   "outputs": [
    {
     "name": "stdout",
     "output_type": "stream",
     "text": [
      "[[[173  96   0]\n",
      "  [173  96   0]\n",
      "  [173  96   0]\n",
      "  ...\n",
      "  [173  96   0]\n",
      "  [173  96   0]\n",
      "  [173  96   0]]\n",
      "\n",
      " [[173  96   0]\n",
      "  [173  96   0]\n",
      "  [173  96   0]\n",
      "  ...\n",
      "  [173  96   0]\n",
      "  [173  96   0]\n",
      "  [173  96   0]]\n",
      "\n",
      " [[173  96   0]\n",
      "  [173  96   0]\n",
      "  [173  96   0]\n",
      "  ...\n",
      "  [173  96   0]\n",
      "  [173  96   0]\n",
      "  [173  96   0]]\n",
      "\n",
      " ...\n",
      "\n",
      " [[173  96   0]\n",
      "  [173  96   0]\n",
      "  [173  96   0]\n",
      "  ...\n",
      "  [173  96   0]\n",
      "  [173  96   0]\n",
      "  [173  96   0]]\n",
      "\n",
      " [[173  96   0]\n",
      "  [173  96   0]\n",
      "  [173  96   0]\n",
      "  ...\n",
      "  [173  96   0]\n",
      "  [173  96   0]\n",
      "  [173  96   0]]\n",
      "\n",
      " [[173  96   0]\n",
      "  [173  96   0]\n",
      "  [173  96   0]\n",
      "  ...\n",
      "  [173  96   0]\n",
      "  [173  96   0]\n",
      "  [173  96   0]]] <class 'numpy.ndarray'> 3 (225, 225, 3) uint8\n"
     ]
    }
   ],
   "source": [
    "## Leyendo una imagen. imshow muestra la imagen en un pesatañeo, por eso se agrega witkey que espera en segundos antes de cerrarse la ventana emergente, en conjunto con destroyAllWindows\n",
    "img = cv2.imread(\"C:\\\\Jupyter\\\\pdi\\\\imagenes\\\\mario.jpg\")\n",
    "print(img, type(img), img.ndim, img.shape, img.dtype) # img.dtype muestra el rango de valores que toma cada pixel; ndim = número de canales; \n",
    "cv2.rectangle(img, (23, 27), (195, 202), (0,255, 0)) #envuelve la cara de mario\n",
    "cv2.circle(img, (110, 146), 80, (255, 0, 255), 5) ## 100 radio; (255, 0, 255) magenta; 5 es grosor\n",
    "cv2.imshow('Ventana', img)\n",
    "cv2.waitKey(10000) ## 5000 son 5 segundos. Es el tiempo que se mostrará la imagen\n",
    "cv2.destroyAllWindows()"
   ]
  },
  {
   "cell_type": "markdown",
   "id": "79e2a874-dbe0-4917-b0ad-f8e7a58a83b3",
   "metadata": {},
   "source": [
    "### Dibujando un círculo relleno, un rectángulo relleno"
   ]
  },
  {
   "cell_type": "code",
   "execution_count": 17,
   "id": "98c17281-4823-48bb-9c77-d1da4f7a1e33",
   "metadata": {},
   "outputs": [],
   "source": [
    "bandera = np.zeros((400, 800, 3), dtype = np.uint8)\n",
    "cv2.rectangle(bandera, (50, 50), (720, 350), (255, 255, 255), -1)\n",
    "cv2.circle(bandera, (383, 198), 100, (0, 0, 255), -1)\n",
    "cv2.imshow(\"Ventana\", bandera)\n",
    "cv2.waitKey(10000)\n",
    "cv2.destroyAllWindows()"
   ]
  },
  {
   "cell_type": "markdown",
   "id": "4aa69c79-5b9a-4899-a5ab-97b3510bf441",
   "metadata": {},
   "source": [
    "### Adicionando texto"
   ]
  },
  {
   "cell_type": "code",
   "execution_count": 26,
   "id": "38ecb916-e138-46dd-93b2-f9ae598270cd",
   "metadata": {},
   "outputs": [],
   "source": [
    "# help(cv2.putText)\n",
    "bandera = np.zeros((400, 800, 3), dtype = np.uint8)\n",
    "cv2.rectangle(bandera, (50, 50), (720, 350), (255, 255, 255), -1)\n",
    "cv2.circle(bandera, (383, 198), 100, (0, 0, 255), -1)\n",
    "cv2.putText(bandera, \"Japón\", (280, 375), cv2.FONT_ITALIC, 1, (0, 255, 0))\n",
    "cv2.imshow(\"Ventana\", bandera)\n",
    "cv2.waitKey(10000)\n",
    "cv2.destroyAllWindows()"
   ]
  }
 ],
 "metadata": {
  "kernelspec": {
   "display_name": "Python 3 (ipykernel)",
   "language": "python",
   "name": "python3"
  },
  "language_info": {
   "codemirror_mode": {
    "name": "ipython",
    "version": 3
   },
   "file_extension": ".py",
   "mimetype": "text/x-python",
   "name": "python",
   "nbconvert_exporter": "python",
   "pygments_lexer": "ipython3",
   "version": "3.12.3"
  }
 },
 "nbformat": 4,
 "nbformat_minor": 5
}
