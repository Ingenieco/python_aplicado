{
 "cells": [
  {
   "cell_type": "code",
   "execution_count": 1,
   "id": "401032f0-e5f9-413f-aa87-b71fb4a9ed05",
   "metadata": {},
   "outputs": [],
   "source": [
    "import cv2\n",
    "import numpy as np"
   ]
  },
  {
   "cell_type": "code",
   "execution_count": 2,
   "id": "b2479575-faea-413e-ac82-f14cbd526932",
   "metadata": {},
   "outputs": [],
   "source": [
    "img_as_BGR = cv2.imread(\"C:\\\\Jupyter\\\\pdi\\\\imagenes\\\\mario.jpg\") \n",
    "img_as_BGR = cv2.imread(\"C:\\\\Jupyter\\\\pdi\\\\imagenes\\\\random_scene.jpg\")\n",
    "img_as_gray = cv2.cvtColor(img_as_BGR, cv2.COLOR_BGR2GRAY)"
   ]
  },
  {
   "cell_type": "markdown",
   "id": "41d25b64-03ed-428c-bb1b-9bae76d17b2b",
   "metadata": {},
   "source": [
    "## Umbral binario"
   ]
  },
  {
   "cell_type": "code",
   "execution_count": 4,
   "id": "204bfb66-62b2-4190-b80a-0b1767b67495",
   "metadata": {},
   "outputs": [],
   "source": [
    "valor_umbral = 127\n",
    "valor_maximo = 255\n",
    "tipo = cv2.THRESH_BINARY\n",
    "\n",
    "\n",
    "return_value, image = cv2.threshold(img_as_gray, valor_umbral, valor_maximo, tipo)\n",
    "cv2.imshow(\"Imagen_original\", img_as_gray)\n",
    "cv2.imshow(\"Imagen_umbral\", image)\n",
    "cv2.waitKey(7000)\n",
    "cv2.destroyAllWindows()"
   ]
  },
  {
   "cell_type": "markdown",
   "id": "b6583f7d-a049-4a9a-8915-c36f2bad88e3",
   "metadata": {},
   "source": [
    "## Aplicando umbral binario invertido"
   ]
  },
  {
   "cell_type": "code",
   "execution_count": 7,
   "id": "fd9d59d5-6acb-4bfc-ad5b-24cf59c8f374",
   "metadata": {},
   "outputs": [],
   "source": [
    "valor_umbral = 127\n",
    "valor_maximo = 255\n",
    "tipo = cv2.THRESH_BINARY_INV## umbrla binario invertido. Es el inverso del ejemplo anterior\n",
    "\n",
    "\n",
    "return_value, image = cv2.threshold(img_as_gray, valor_umbral, valor_maximo, tipo)\n",
    "cv2.imshow(\"Imagen_original\", img_as_gray)\n",
    "cv2.imshow(\"Imagen_umbral\", image)\n",
    "cv2.waitKey(7000)\n",
    "cv2.destroyAllWindows()"
   ]
  },
  {
   "cell_type": "markdown",
   "id": "3ae05c03-88e7-4f6c-9f08-781ce3e07c3b",
   "metadata": {},
   "source": [
    "## Umbral a cero"
   ]
  },
  {
   "cell_type": "code",
   "execution_count": 10,
   "id": "a656fbad-053e-444a-85b1-9d7835fb575f",
   "metadata": {},
   "outputs": [],
   "source": [
    "valor_umbral = 127\n",
    "valor_maximo = 255\n",
    "tipo = cv2.THRESH_TOZERO## umbrla binario invertido. Es el inverso del ejemplo anterior\n",
    "\n",
    "\n",
    "return_value, image = cv2.threshold(img_as_gray, valor_umbral, valor_maximo, tipo)\n",
    "cv2.imshow(\"Imagen_original\", img_as_gray)\n",
    "cv2.imshow(\"Imagen_umbral\", image)\n",
    "cv2.waitKey(7000)\n",
    "cv2.destroyAllWindows()"
   ]
  },
  {
   "cell_type": "markdown",
   "id": "bf195fd1-8d50-4656-9d77-4c39b68bc4d2",
   "metadata": {},
   "source": [
    "## Umbral a cero invertido"
   ]
  },
  {
   "cell_type": "code",
   "execution_count": 11,
   "id": "958385d8-4480-4ea7-ba9b-35d0bb5f63be",
   "metadata": {},
   "outputs": [],
   "source": [
    "valor_umbral = 127\n",
    "valor_maximo = 255\n",
    "tipo = cv2.THRESH_TOZERO_INV## umbrla binario invertido. Es el inverso del ejemplo anterior\n",
    "\n",
    "\n",
    "return_value, image = cv2.threshold(img_as_gray, valor_umbral, valor_maximo, tipo)\n",
    "cv2.imshow(\"Imagen_original\", img_as_gray)\n",
    "cv2.imshow(\"Imagen_umbral\", image)\n",
    "cv2.waitKey(7000)\n",
    "cv2.destroyAllWindows()"
   ]
  }
 ],
 "metadata": {
  "kernelspec": {
   "display_name": "Python 3 (ipykernel)",
   "language": "python",
   "name": "python3"
  },
  "language_info": {
   "codemirror_mode": {
    "name": "ipython",
    "version": 3
   },
   "file_extension": ".py",
   "mimetype": "text/x-python",
   "name": "python",
   "nbconvert_exporter": "python",
   "pygments_lexer": "ipython3",
   "version": "3.12.3"
  }
 },
 "nbformat": 4,
 "nbformat_minor": 5
}
