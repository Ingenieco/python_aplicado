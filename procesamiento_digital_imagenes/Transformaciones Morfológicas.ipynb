{
 "cells": [
  {
   "cell_type": "code",
   "execution_count": 2,
   "id": "44e52da4-e5f4-48a8-b77c-875c95eb22fb",
   "metadata": {},
   "outputs": [],
   "source": [
    "import numpy as np\n",
    "import cv2"
   ]
  },
  {
   "cell_type": "markdown",
   "id": "29c92663-f674-4bd4-8d46-2be9f68eaad1",
   "metadata": {},
   "source": [
    "## Transformación morfológica - erosión"
   ]
  },
  {
   "cell_type": "code",
   "execution_count": 7,
   "id": "6c1dfc23-08ad-49dd-9bdb-9251c9259b3f",
   "metadata": {},
   "outputs": [
    {
     "name": "stdout",
     "output_type": "stream",
     "text": [
      "matriz 1\n",
      "[[  0   0   0 255 255 255 255   0   0   0]\n",
      " [  0   0   0 255 255 255 255   0   0   0]\n",
      " [  0   0   0 255 255 255 255   0   0   0]\n",
      " [  0   0   0 255 255 255 255   0   0   0]\n",
      " [  0   0   0 255 255 255 255   0   0   0]\n",
      " [  0   0   0 255 255 255 255   0   0   0]\n",
      " [  0   0   0 255 255 255 255   0   0   0]\n",
      " [  0   0   0 255 255 255 255   0   0   0]\n",
      " [  0   0   0 255 255 255 255   0   0   0]\n",
      " [  0   0   0 255 255 255 255   0   0   0]]\n",
      "matriz 2\n",
      "[[  0   0   0   0 255 255   0   0   0   0]\n",
      " [  0   0   0   0 255 255   0   0   0   0]\n",
      " [  0   0   0   0 255 255   0   0   0   0]\n",
      " [  0   0   0   0 255 255   0   0   0   0]\n",
      " [  0   0   0   0 255 255   0   0   0   0]\n",
      " [  0   0   0   0 255 255   0   0   0   0]\n",
      " [  0   0   0   0 255 255   0   0   0   0]\n",
      " [  0   0   0   0 255 255   0   0   0   0]\n",
      " [  0   0   0   0 255 255   0   0   0   0]\n",
      " [  0   0   0   0 255 255   0   0   0   0]]\n"
     ]
    }
   ],
   "source": [
    "matrix = np.zeros((10,10), dtype = np.uint8)\n",
    "matrix[:, 3:7] = 255\n",
    "\n",
    "\n",
    "kernel = np.ones((3,3), dtype = np.uint8)\n",
    "erosion = cv2.erode(matrix, kernel)\n",
    "print(\"matriz 1\")\n",
    "print(matrix)\n",
    "print(\"matriz 2\")\n",
    "print(erosion)"
   ]
  },
  {
   "cell_type": "code",
   "execution_count": 3,
   "id": "02fee7c9-7aa3-42c9-9346-dd43745a7e62",
   "metadata": {},
   "outputs": [],
   "source": [
    "image_as_bgr = cv2.imread(\"C:\\\\Jupyter\\\\pdi\\\\imagenes\\\\imagen_para_erosionar.png\")\n",
    "image_as_gray = cv2.cvtColor(image_as_bgr, cv2.COLOR_BGR2GRAY)\n",
    "\n",
    "kernel = np.ones((3,3), dtype = np.uint8)\n",
    "erosion = cv2.erode(image_as_gray, kernel, iterations = 2) ## significa que aplica la erosión 2 veces en la imagen\n",
    "\n",
    "cv2.imshow(\"Imagen original\", image_as_gray)\n",
    "cv2.imshow(\"Imagen erosionada\", erosion)\n",
    "cv2.waitKey(15000)\n",
    "cv2.destroyAllWindows()"
   ]
  }
 ],
 "metadata": {
  "kernelspec": {
   "display_name": "Python 3 (ipykernel)",
   "language": "python",
   "name": "python3"
  },
  "language_info": {
   "codemirror_mode": {
    "name": "ipython",
    "version": 3
   },
   "file_extension": ".py",
   "mimetype": "text/x-python",
   "name": "python",
   "nbconvert_exporter": "python",
   "pygments_lexer": "ipython3",
   "version": "3.12.3"
  }
 },
 "nbformat": 4,
 "nbformat_minor": 5
}
