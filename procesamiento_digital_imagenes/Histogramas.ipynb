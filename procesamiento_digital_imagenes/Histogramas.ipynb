{
 "cells": [
  {
   "cell_type": "code",
   "execution_count": 2,
   "id": "178b1a1e-1bc6-4e53-a9e5-ab73e0839cf6",
   "metadata": {},
   "outputs": [],
   "source": [
    "import cv2\n",
    "import numpy as np\n",
    "import matplotlib.pyplot as plt"
   ]
  },
  {
   "cell_type": "code",
   "execution_count": 6,
   "id": "367a6a9d-c29c-4cfd-8987-51a4228563fa",
   "metadata": {},
   "outputs": [],
   "source": [
    "image_as_BGR = cv2.imread(\"C:\\\\Jupyter\\\\pdi\\\\imagenes\\\\random_scene.jpg\")\n",
    "image_as_GRAY = cv2.cvtColor(image_as_BGR, cv2.COLOR_BGR2GRAY)"
   ]
  },
  {
   "cell_type": "code",
   "execution_count": 9,
   "id": "faf0f9c9-0a86-4c53-bcd4-f33318328216",
   "metadata": {},
   "outputs": [
    {
     "data": {
      "text/plain": [
       "dtype('uint8')"
      ]
     },
     "execution_count": 9,
     "metadata": {},
     "output_type": "execute_result"
    }
   ],
   "source": [
    "image_as_GRAY.dtype"
   ]
  },
  {
   "cell_type": "markdown",
   "id": "195b66d5-61cf-4707-939a-f054c9165912",
   "metadata": {},
   "source": [
    "### Uso de Matplotlib"
   ]
  },
  {
   "cell_type": "code",
   "execution_count": 10,
   "id": "5c4fe7ce-4bd8-4eec-8e0b-e1f6907f56fe",
   "metadata": {
    "scrolled": true
   },
   "outputs": [
    {
     "name": "stdout",
     "output_type": "stream",
     "text": [
      "El histograma es: \n",
      "[[  700.]\n",
      " [  322.]\n",
      " [  506.]\n",
      " [  743.]\n",
      " [ 1076.]\n",
      " [ 1374.]\n",
      " [ 1912.]\n",
      " [ 2465.]\n",
      " [ 4009.]\n",
      " [ 9622.]\n",
      " [13592.]\n",
      " [15358.]\n",
      " [18156.]\n",
      " [29653.]\n",
      " [49944.]\n",
      " [49074.]\n",
      " [43767.]\n",
      " [44477.]\n",
      " [47709.]\n",
      " [53300.]\n",
      " [57811.]\n",
      " [60769.]\n",
      " [58234.]\n",
      " [58230.]\n",
      " [59411.]\n",
      " [51728.]\n",
      " [63103.]\n",
      " [60858.]\n",
      " [62573.]\n",
      " [66737.]\n",
      " [56211.]\n",
      " [52025.]\n",
      " [48932.]\n",
      " [42235.]\n",
      " [44745.]\n",
      " [42134.]\n",
      " [38851.]\n",
      " [36355.]\n",
      " [30563.]\n",
      " [34247.]\n",
      " [35655.]\n",
      " [32475.]\n",
      " [39439.]\n",
      " [31986.]\n",
      " [29729.]\n",
      " [27574.]\n",
      " [25807.]\n",
      " [18617.]\n",
      " [17196.]\n",
      " [15247.]\n",
      " [12127.]\n",
      " [11556.]\n",
      " [11244.]\n",
      " [10247.]\n",
      " [10117.]\n",
      " [ 9058.]\n",
      " [ 8721.]\n",
      " [ 8587.]\n",
      " [ 8255.]\n",
      " [ 8059.]\n",
      " [ 7652.]\n",
      " [ 7618.]\n",
      " [ 7841.]\n",
      " [ 7917.]\n",
      " [ 8504.]\n",
      " [ 8484.]\n",
      " [ 7967.]\n",
      " [ 7793.]\n",
      " [ 7559.]\n",
      " [ 7249.]\n",
      " [ 7317.]\n",
      " [ 7612.]\n",
      " [ 7289.]\n",
      " [ 7536.]\n",
      " [ 7356.]\n",
      " [ 7097.]\n",
      " [ 7194.]\n",
      " [ 7016.]\n",
      " [ 6570.]\n",
      " [ 6905.]\n",
      " [ 6881.]\n",
      " [ 6616.]\n",
      " [ 6709.]\n",
      " [ 6732.]\n",
      " [ 6658.]\n",
      " [ 6584.]\n",
      " [ 6725.]\n",
      " [ 6810.]\n",
      " [ 6670.]\n",
      " [ 6762.]\n",
      " [ 6444.]\n",
      " [ 6526.]\n",
      " [ 6443.]\n",
      " [ 6202.]\n",
      " [ 6251.]\n",
      " [ 6221.]\n",
      " [ 6169.]\n",
      " [ 6004.]\n",
      " [ 6012.]\n",
      " [ 5990.]\n",
      " [ 5834.]\n",
      " [ 5635.]\n",
      " [ 5564.]\n",
      " [ 5393.]\n",
      " [ 5157.]\n",
      " [ 4947.]\n",
      " [ 5037.]\n",
      " [ 4982.]\n",
      " [ 4887.]\n",
      " [ 4778.]\n",
      " [ 4833.]\n",
      " [ 4866.]\n",
      " [ 4680.]\n",
      " [ 4704.]\n",
      " [ 4588.]\n",
      " [ 4529.]\n",
      " [ 4515.]\n",
      " [ 4496.]\n",
      " [ 4612.]\n",
      " [ 4556.]\n",
      " [ 4330.]\n",
      " [ 4301.]\n",
      " [ 4165.]\n",
      " [ 4058.]\n",
      " [ 3887.]\n",
      " [ 3804.]\n",
      " [ 3687.]\n",
      " [ 3667.]\n",
      " [ 3564.]\n",
      " [ 3448.]\n",
      " [ 3460.]\n",
      " [ 3482.]\n",
      " [ 3382.]\n",
      " [ 3312.]\n",
      " [ 3373.]\n",
      " [ 3401.]\n",
      " [ 3237.]\n",
      " [ 3229.]\n",
      " [ 3144.]\n",
      " [ 3111.]\n",
      " [ 3039.]\n",
      " [ 3098.]\n",
      " [ 2939.]\n",
      " [ 2986.]\n",
      " [ 2997.]\n",
      " [ 2903.]\n",
      " [ 2869.]\n",
      " [ 2959.]\n",
      " [ 2820.]\n",
      " [ 2814.]\n",
      " [ 2667.]\n",
      " [ 2684.]\n",
      " [ 2550.]\n",
      " [ 2525.]\n",
      " [ 2557.]\n",
      " [ 2474.]\n",
      " [ 2496.]\n",
      " [ 2322.]\n",
      " [ 2374.]\n",
      " [ 2259.]\n",
      " [ 2282.]\n",
      " [ 2288.]\n",
      " [ 2275.]\n",
      " [ 2260.]\n",
      " [ 2272.]\n",
      " [ 2243.]\n",
      " [ 2214.]\n",
      " [ 2276.]\n",
      " [ 2213.]\n",
      " [ 2174.]\n",
      " [ 2244.]\n",
      " [ 2160.]\n",
      " [ 2143.]\n",
      " [ 2068.]\n",
      " [ 2145.]\n",
      " [ 2125.]\n",
      " [ 2084.]\n",
      " [ 2082.]\n",
      " [ 2089.]\n",
      " [ 2067.]\n",
      " [ 1989.]\n",
      " [ 2130.]\n",
      " [ 1993.]\n",
      " [ 2136.]\n",
      " [ 2165.]\n",
      " [ 2203.]\n",
      " [ 2172.]\n",
      " [ 2207.]\n",
      " [ 2209.]\n",
      " [ 2279.]\n",
      " [ 2361.]\n",
      " [ 2311.]\n",
      " [ 2295.]\n",
      " [ 2338.]\n",
      " [ 2358.]\n",
      " [ 2284.]\n",
      " [ 2404.]\n",
      " [ 2375.]\n",
      " [ 2461.]\n",
      " [ 2390.]\n",
      " [ 2437.]\n",
      " [ 2450.]\n",
      " [ 2360.]\n",
      " [ 2356.]\n",
      " [ 2378.]\n",
      " [ 2376.]\n",
      " [ 2229.]\n",
      " [ 2283.]\n",
      " [ 2220.]\n",
      " [ 2164.]\n",
      " [ 2120.]\n",
      " [ 2140.]\n",
      " [ 2076.]\n",
      " [ 2073.]\n",
      " [ 1945.]\n",
      " [ 1845.]\n",
      " [ 1901.]\n",
      " [ 1788.]\n",
      " [ 1735.]\n",
      " [ 1777.]\n",
      " [ 1700.]\n",
      " [ 1630.]\n",
      " [ 1578.]\n",
      " [ 1562.]\n",
      " [ 1496.]\n",
      " [ 1380.]\n",
      " [ 1313.]\n",
      " [ 1330.]\n",
      " [ 1232.]\n",
      " [ 1182.]\n",
      " [ 1130.]\n",
      " [ 1129.]\n",
      " [ 1098.]\n",
      " [  934.]\n",
      " [  994.]\n",
      " [  948.]\n",
      " [  851.]\n",
      " [  825.]\n",
      " [  792.]\n",
      " [  784.]\n",
      " [  709.]\n",
      " [  752.]\n",
      " [  656.]\n",
      " [  684.]\n",
      " [  693.]\n",
      " [  628.]\n",
      " [  682.]\n",
      " [  644.]\n",
      " [  655.]\n",
      " [  595.]\n",
      " [  669.]\n",
      " [  703.]\n",
      " [  527.]\n",
      " [  702.]\n",
      " [  559.]\n",
      " [ 2378.]]\n",
      "Su shape es: \n",
      "(256, 1)\n"
     ]
    }
   ],
   "source": [
    "histograma = cv2.calcHist([image_as_BGR], [0], None, [256], [0, 256]) # los parámetros de la función son: (imagen, canal, tamaño, rango). El tamaño es el número de bins, y rango: son los valores de \n",
    "# píxeles que toma la imagen\n",
    "print(\"El histograma es: \\n{}\".format(histograma))\n",
    "print(\"Su shape es: \\n{}\".format(histograma.shape))"
   ]
  },
  {
   "cell_type": "code",
   "execution_count": 7,
   "id": "d6abd66d-dbf1-4575-97aa-3d6fecc719f1",
   "metadata": {},
   "outputs": [
    {
     "data": {
      "text/plain": [
       "numpy.ndarray"
      ]
     },
     "execution_count": 7,
     "metadata": {},
     "output_type": "execute_result"
    }
   ],
   "source": [
    "type(histograma)"
   ]
  },
  {
   "cell_type": "markdown",
   "id": "6d64dc2e-6ef1-4485-921c-b63cbc9f44c9",
   "metadata": {},
   "source": [
    "## Histograma en Numpy"
   ]
  },
  {
   "cell_type": "code",
   "execution_count": 14,
   "id": "4450e703-f287-4b91-a82d-60a0419382b2",
   "metadata": {},
   "outputs": [
    {
     "name": "stdout",
     "output_type": "stream",
     "text": [
      "El histograma es: \n",
      "[   56    65   105   218   442   761  2244  8695 17281 34931 55737 51636\n",
      " 47544 52000 58444 62254 81703 73204 72532 82504 68080 70336 76301 63736\n",
      " 59413 62059 54402 52765 54353 48955 43846 47810 41433 39502 36819 24049\n",
      " 21430 19625 15797 14699 14213 13434 12880 11713 11225 11231 11243 10165\n",
      " 10198  9828  9151  8725  8907  8793  8884  9116  8341  7963  7865  7434\n",
      "  7221  7461  7257  7096  6907  6634  6468  6439  6152  6223  6123  5989\n",
      "  6133  6340  5904  6156  6034  6044  5712  5761  5905  5927  5632  5687\n",
      "  5629  5715  5572  5468  5585  5697  5850  5778  5779  5810  5920  5912\n",
      "  5849  5876  5953  5876  5880  5636  5630  5641  5428  5319  5329  5244\n",
      "  5171  5272  5129  4970  5062  5022  5134  4977  4943  5031  5015  4878\n",
      "  4927  4816  4944  4993  4824  4872  4857  4794  4765  4810  4731  4665\n",
      "  4596  4552  4409  4339  4262  4094  4099  3989  3950  4000  3869  3890\n",
      "  3792  3716  3613  3691  3515  3641  3489  3486  3445  3462  3283  3254\n",
      "  3392  3147  3108  3236  3100  3097  3104  2999  2907  2787  2877  2813\n",
      "  2841  2798  2804  2724  2717  2610  2560  2550  2574  2466  2357  2352\n",
      "  2350  2335  2249  2235  2137  2112  2138  2026  2000  1907  1851  1805\n",
      "  1817  1757  1683  1598  1456  1448  1459  1278  1201  1233  1171  1097\n",
      "  1054   990   960   870   849   814   760   715   727   634   613   579\n",
      "   594   536   547   523   575   545   489   500   483   461   500   501\n",
      "   514   486   457   435   405   421   381   439   395   354   372   391\n",
      "   359   367   425   360   365   386   365   388   435   431   457   542\n",
      "   721  1029  1400   744]\n",
      "Su shape es: \n",
      "(256,)\n"
     ]
    }
   ],
   "source": [
    "#help(np.histogram)\n",
    "histograma, bins = np.histogram(image_as_GRAY.ravel(), 256, [0, 255]) # los parámetros de la función son: (imagen, canal, tamaño, rango). El tamaño es el número de bins, y rango: son los valores de \n",
    "# píxeles que toma la imagen\n",
    "print(\"El histograma es: \\n{}\".format(histograma))\n",
    "print(\"Su shape es: \\n{}\".format(histograma.shape))"
   ]
  },
  {
   "cell_type": "markdown",
   "id": "6674b2cf-8dbc-4d43-a264-83cb0c372931",
   "metadata": {},
   "source": [
    "### Uso de Matplotlib"
   ]
  },
  {
   "cell_type": "code",
   "execution_count": 21,
   "id": "1029a0d0-26d6-48a2-b5e5-a3d0d0a6fe3c",
   "metadata": {},
   "outputs": [],
   "source": [
    "# los parámetros de la función son: (imagen, canal, tamaño, rango). El tamaño es el número de bins, y rango: son los valores de \n",
    "#en este caso es el histograma del canal 0, 1 y 2 -> [0], [1], [2]\n",
    "histograma_canal_azul = cv2.calcHist([image_as_BGR], [0], None, [256], [0, 256])\n",
    "histograma_canal_verde = cv2.calcHist([image_as_BGR], [1], None, [256], [0, 256])\n",
    "histograma_canal_rojo = cv2.calcHist([image_as_BGR], [2], None, [256], [0, 256])"
   ]
  },
  {
   "cell_type": "code",
   "execution_count": 22,
   "id": "6bcc3411-c4d6-4403-bf91-be97e6d9be33",
   "metadata": {},
   "outputs": [
    {
     "data": {
      "image/png": "[encoded data removed]",
      "text/plain": [
       "<Figure size 640x480 with 1 Axes>"
      ]
     },
     "metadata": {},
     "output_type": "display_data"
    }
   ],
   "source": [
    "plt.plot(histograma_canal_rojo, color = 'r')\n",
    "plt.plot(histograma_canal_verde, color = 'g')\n",
    "plt.plot(histograma_canal_azul, color = 'b')\n",
    "plt.show()"
   ]
  },
  {
   "cell_type": "markdown",
   "id": "9bd0d860-28c3-452b-9850-22613368bc01",
   "metadata": {},
   "source": [
    "### Aplicando una máscara"
   ]
  },
  {
   "cell_type": "code",
   "execution_count": 4,
   "id": "9bc2916d-5677-4330-8a75-f0d35291bfb7",
   "metadata": {},
   "outputs": [
    {
     "name": "stdout",
     "output_type": "stream",
     "text": [
      "(1280, 1920)\n"
     ]
    },
    {
     "data": {
      "text/plain": [
       "<function matplotlib.pyplot.show(close=None, block=None)>"
      ]
     },
     "execution_count": 4,
     "metadata": {},
     "output_type": "execute_result"
    },
    {
     "data": {
      "image/png": "[encoded data removed]",
      "text/plain": [
       "<Figure size 640x480 with 1 Axes>"
      ]
     },
     "metadata": {},
     "output_type": "display_data"
    }
   ],
   "source": [
    "#Histograma de la imagen en escala de grises\n",
    "print(image_as_GRAY.shape)\n",
    "histograma_for_GRAY = cv2.calcHist([image_as_GRAY], [0], None, [256], [0,256]) # es el histograma en escala de grises, por eso la única banda o canal es el [0]\n",
    "plt.plot(histograma_for_GRAY, color = 'b')\n",
    "plt.show"
   ]
  },
  {
   "cell_type": "code",
   "execution_count": 13,
   "id": "33d63d6e-9a77-40a1-b6bc-2cc3b2b5e282",
   "metadata": {},
   "outputs": [
    {
     "data": {
      "image/png": "[encoded data removed]",
      "text/plain": [
       "<Figure size 640x480 with 1 Axes>"
      ]
     },
     "metadata": {},
     "output_type": "display_data"
    }
   ],
   "source": [
    "mask = np.zeros(image_as_GRAY.shape, np.uint8)\n",
    "mask[100:300, 100:400] = 255 #toda esta región va a ser ahora blanco\n",
    "\n",
    "## ver la imagen con la máscara:\n",
    "image_as_GRAY_mask = cv2.bitwise_and(image_as_GRAY, image_as_GRAY, mask = mask)\n",
    "\n",
    "# Obteniendo el histograma\n",
    "histograma_for_GRAY = cv2.calcHist([image_as_GRAY], [0], mask, [256], [0,256])\n",
    "histograma = cv2.calcHist([image_as_GRAY], [0], None, [256], [0,256])\n",
    "cv2.imshow('Imagen en gris', image_as_GRAY)\n",
    "cv2.imshow('Imagen en gris_con_ mascara', image_as_GRAY_mask)\n",
    "cv2.imshow('Máscara', mask)\n",
    "cv2.waitKey(0)\n",
    "cv2.destroyAllWindows()\n",
    "plt.plot(histograma_for_GRAY, color = \"b\")\n",
    "plt.plot(histograma, color = \"r\")\n",
    "plt.show()"
   ]
  },
  {
   "cell_type": "code",
   "execution_count": null,
   "id": "c1770afd-7aae-4000-9b9a-27f88a1c3c1f",
   "metadata": {},
   "outputs": [],
   "source": []
  }
 ],
 "metadata": {
  "kernelspec": {
   "display_name": "Python 3 (ipykernel)",
   "language": "python",
   "name": "python3"
  },
  "language_info": {
   "codemirror_mode": {
    "name": "ipython",
    "version": 3
   },
   "file_extension": ".py",
   "mimetype": "text/x-python",
   "name": "python",
   "nbconvert_exporter": "python",
   "pygments_lexer": "ipython3",
   "version": "3.12.3"
  }
 },
 "nbformat": 4,
 "nbformat_minor": 5
}
