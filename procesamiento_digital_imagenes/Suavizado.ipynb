{
 "cells": [
  {
   "cell_type": "code",
   "execution_count": 1,
   "id": "6078dbe4-af61-4fa9-9827-69fab1a8be36",
   "metadata": {},
   "outputs": [],
   "source": [
    "import cv2\n",
    "import numpy as np"
   ]
  },
  {
   "cell_type": "code",
   "execution_count": 2,
   "id": "c3e49049-53c8-4e06-a789-3c1cbf37a339",
   "metadata": {},
   "outputs": [],
   "source": [
    "img = cv2.imread(\"C:\\\\Jupyter\\\\pdi\\\\imagenes\\\\mario.jpg\") "
   ]
  },
  {
   "cell_type": "code",
   "execution_count": 8,
   "id": "9e5c0ee2-fffd-4677-a774-cff04856ab7b",
   "metadata": {},
   "outputs": [
    {
     "name": "stdout",
     "output_type": "stream",
     "text": [
      "[[0.00826446 0.00826446 0.00826446 0.00826446 0.00826446 0.00826446\n",
      "  0.00826446 0.00826446 0.00826446 0.00826446 0.00826446]\n",
      " [0.00826446 0.00826446 0.00826446 0.00826446 0.00826446 0.00826446\n",
      "  0.00826446 0.00826446 0.00826446 0.00826446 0.00826446]\n",
      " [0.00826446 0.00826446 0.00826446 0.00826446 0.00826446 0.00826446\n",
      "  0.00826446 0.00826446 0.00826446 0.00826446 0.00826446]\n",
      " [0.00826446 0.00826446 0.00826446 0.00826446 0.00826446 0.00826446\n",
      "  0.00826446 0.00826446 0.00826446 0.00826446 0.00826446]\n",
      " [0.00826446 0.00826446 0.00826446 0.00826446 0.00826446 0.00826446\n",
      "  0.00826446 0.00826446 0.00826446 0.00826446 0.00826446]\n",
      " [0.00826446 0.00826446 0.00826446 0.00826446 0.00826446 0.00826446\n",
      "  0.00826446 0.00826446 0.00826446 0.00826446 0.00826446]\n",
      " [0.00826446 0.00826446 0.00826446 0.00826446 0.00826446 0.00826446\n",
      "  0.00826446 0.00826446 0.00826446 0.00826446 0.00826446]\n",
      " [0.00826446 0.00826446 0.00826446 0.00826446 0.00826446 0.00826446\n",
      "  0.00826446 0.00826446 0.00826446 0.00826446 0.00826446]\n",
      " [0.00826446 0.00826446 0.00826446 0.00826446 0.00826446 0.00826446\n",
      "  0.00826446 0.00826446 0.00826446 0.00826446 0.00826446]\n",
      " [0.00826446 0.00826446 0.00826446 0.00826446 0.00826446 0.00826446\n",
      "  0.00826446 0.00826446 0.00826446 0.00826446 0.00826446]\n",
      " [0.00826446 0.00826446 0.00826446 0.00826446 0.00826446 0.00826446\n",
      "  0.00826446 0.00826446 0.00826446 0.00826446 0.00826446]]\n"
     ]
    }
   ],
   "source": [
    "## kernel aplicado a la imagen\n",
    "kernel = np.ones((11, 11), np.float32)\n",
    "width, height = kernel.shape\n",
    "kernel /= (width*height)\n",
    "print(kernel)\n",
    "\n",
    "# Imagen suavizada:\n",
    "image_convoluted = cv2.filter2D(img, -1, kernel)\n",
    "\n",
    "cv2.imshow(\"Ventana 1\", img)\n",
    "cv2.imshow(\"Ventana kernel\", image_convoluted)\n",
    "cv2.waitKey(7000)\n",
    "cv2.destroyAllWindows()"
   ]
  },
  {
   "cell_type": "code",
   "execution_count": 4,
   "id": "6e319e02-23c1-4111-9011-097df0010012",
   "metadata": {},
   "outputs": [],
   "source": [
    "kernel_size = (7,7)\n",
    "image_convoluted = cv2.blur(img, kernel_size)\n",
    "\n",
    "cv2.imshow(\"Ventana 1\", img)\n",
    "cv2.imshow(\"Ventana filtro\", image_convoluted)\n",
    "cv2.waitKey(15000)\n",
    "cv2.destroyAllWindows()"
   ]
  },
  {
   "cell_type": "markdown",
   "id": "02bb9ca2-d234-4cac-85c2-c2221a9b96df",
   "metadata": {},
   "source": [
    "## Filtro pasa bajo medianBlur, eliminando efecto sal y pimienta"
   ]
  },
  {
   "cell_type": "code",
   "execution_count": 8,
   "id": "add666c6-eaec-48d5-a3e1-88c46a0b5ad8",
   "metadata": {},
   "outputs": [],
   "source": [
    "img = cv2.imread(\"C:\\\\Jupyter\\\\pdi\\\\imagenes\\\\imagen_sal_pimienta.jpg\") "
   ]
  },
  {
   "cell_type": "code",
   "execution_count": 9,
   "id": "1da871ea-b197-4163-9f25-90c9fa5bb215",
   "metadata": {},
   "outputs": [],
   "source": [
    "kernel_size = 3\n",
    "image_convoluted = cv2.medianBlur(img, kernel_size)\n",
    "\n",
    "cv2.imshow(\"Ventana 1\", img)\n",
    "cv2.imshow(\"Ventana filtro\", image_convoluted)\n",
    "cv2.waitKey(15000)\n",
    "cv2.destroyAllWindows()"
   ]
  },
  {
   "cell_type": "markdown",
   "id": "383eb4b9-8d99-460e-a36c-27e81f85c1ec",
   "metadata": {},
   "source": [
    "## Filtro pasa bajo gaussian permite el suavizado"
   ]
  },
  {
   "cell_type": "code",
   "execution_count": 13,
   "id": "662e180a-c88c-4dc0-bea2-cfa01c90ab60",
   "metadata": {},
   "outputs": [],
   "source": [
    "kernel_size = (11, 11)\n",
    "image_convoluted = cv2.GaussianBlur(img, kernel_size, 0)\n",
    "\n",
    "cv2.imshow(\"Ventana 1\", img)\n",
    "cv2.imshow(\"Ventana filtro\", image_convoluted)\n",
    "cv2.waitKey(15000)\n",
    "cv2.destroyAllWindows()"
   ]
  },
  {
   "cell_type": "code",
   "execution_count": null,
   "id": "ba93a12f-dfa2-4c54-b113-e77791ad146c",
   "metadata": {},
   "outputs": [],
   "source": []
  }
 ],
 "metadata": {
  "kernelspec": {
   "display_name": "Python 3 (ipykernel)",
   "language": "python",
   "name": "python3"
  },
  "language_info": {
   "codemirror_mode": {
    "name": "ipython",
    "version": 3
   },
   "file_extension": ".py",
   "mimetype": "text/x-python",
   "name": "python",
   "nbconvert_exporter": "python",
   "pygments_lexer": "ipython3",
   "version": "3.12.3"
  }
 },
 "nbformat": 4,
 "nbformat_minor": 5
}
