{
 "cells": [
  {
   "cell_type": "code",
   "execution_count": 1,
   "id": "58054b8b-81a9-49c7-bb4c-f0ca52b51077",
   "metadata": {
    "ExecuteTime": {
     "end_time": "2024-06-19T03:46:28.547780Z",
     "start_time": "2024-06-19T03:46:26.526981Z"
    }
   },
   "outputs": [],
   "source": [
    "import cv2\n",
    "import matplotlib.pyplot as plt\n",
    "import numpy as np"
   ]
  },
  {
   "cell_type": "markdown",
   "id": "02fdc622-a82f-432e-af82-c2a429c201e9",
   "metadata": {},
   "source": [
    "## Cambiando espacios de color: BGR, RGB"
   ]
  },
  {
   "cell_type": "code",
   "execution_count": 2,
   "id": "349c47e1-23f2-4751-b93c-c0690e8742bc",
   "metadata": {
    "ExecuteTime": {
     "end_time": "2024-06-19T03:43:24.874406Z",
     "start_time": "2024-06-19T03:43:24.830285Z"
    }
   },
   "outputs": [],
   "source": [
    "image_as_BGR = cv2.imread(\"C:\\\\Jupyter\\\\pdi\\\\imagenes\\\\mario.jpg\")"
   ]
  },
  {
   "cell_type": "code",
   "execution_count": 3,
   "id": "be383370-648a-46ab-b655-4b974d4b761a",
   "metadata": {
    "ExecuteTime": {
     "end_time": "2024-06-19T03:43:24.879408Z",
     "start_time": "2024-06-19T03:43:24.878409Z"
    }
   },
   "outputs": [],
   "source": [
    "image_as_RGB = cv2.cvtColor(image_as_BGR, cv2.COLOR_BGR2RGB)"
   ]
  },
  {
   "cell_type": "code",
   "execution_count": 4,
   "id": "bb3f1eb2-c66d-4e00-b2c3-a508b0c7b875",
   "metadata": {
    "ExecuteTime": {
     "end_time": "2024-06-19T03:43:24.988632Z",
     "start_time": "2024-06-19T03:43:24.924405Z"
    }
   },
   "outputs": [],
   "source": [
    "cv2.imshow('ventana BGR', image_as_BGR)\n",
    "cv2.imshow('ventana RGB', image_as_RGB)\n",
    "plt.show()\n",
    "cv2.waitKey(7000)\n",
    "cv2.destroyAllWindows()"
   ]
  },
  {
   "cell_type": "markdown",
   "id": "9b8bb4ee-ef63-4d4c-94f1-c84368d41c91",
   "metadata": {},
   "source": [
    "### Mostrando la imagen con Matplotlib"
   ]
  },
  {
   "cell_type": "code",
   "execution_count": null,
   "id": "20f37919-a90d-430a-9af3-1f791f7db36e",
   "metadata": {},
   "outputs": [],
   "source": [
    "plt.imshow(image_as_RGB)\n",
    "#plt.imshow(image_as_GRAY,cmap=plt.get_cmap(\"gray\"))"
   ]
  },
  {
   "cell_type": "markdown",
   "id": "346e1973-e0ac-4e2e-90a6-256b1feaf133",
   "metadata": {},
   "source": [
    "## Detección de objetos por color"
   ]
  },
  {
   "cell_type": "code",
   "execution_count": 7,
   "id": "83fadd96-9c7e-427f-9c1d-cc8f7f9b45d1",
   "metadata": {
    "ExecuteTime": {
     "end_time": "2024-06-19T03:43:25.153175Z",
     "start_time": "2024-06-19T03:43:25.035624Z"
    }
   },
   "outputs": [],
   "source": [
    "## Captura de video\n",
    "cap = cv2.VideoCapture(0) # 0 es el número de la cámara, en caso de que existan más cámaras\n",
    "while cap.isOpened():\n",
    "    ret, frame = cap.read()\n",
    "    if ret == True:\n",
    "        cv2.imshow(\"Video 2\", frame)\n",
    "        #print(frame)\n",
    "        if cv2.waitKey(25) == 97:\n",
    "            break\n",
    "    else:\n",
    "        break\n",
    "cap.release()\n",
    "cv2.destroyAllWindows()"
   ]
  },
  {
   "cell_type": "code",
   "execution_count": 6,
   "id": "40d1c042-18f5-4e90-9dd1-4f5cdadf78ab",
   "metadata": {
    "ExecuteTime": {
     "end_time": "2024-06-19T03:43:25.293823Z",
     "start_time": "2024-06-19T03:43:25.188171Z"
    }
   },
   "outputs": [],
   "source": [
    "## Reproduciendo un video en lugar de capturar video por la cámara\n",
    "\n",
    "video = \"C:\\\\Jupyter\\\\pdi\\\\imagenes\\\\circles.avi\"\n",
    "cap = cv2.VideoCapture(video) # 0 es el número de la cámara, en caso de que existan más cámaras\n",
    "while cap.isOpened():\n",
    "    ret, frame = cap.read()\n",
    "    \n",
    "    if ret == True:\n",
    "        cv2.imshow(\"Video 2\", frame)\n",
    "        #print(frame)\n",
    "        if cv2.waitKey(25) == 97: ## 97 es el código ascii de la letra a. O sea, si oprimo a, se cierra la ventana\n",
    "            break\n",
    "    else:\n",
    "        break\n",
    "cap.release()\n",
    "cv2.destroyAllWindows()"
   ]
  },
  {
   "cell_type": "code",
   "execution_count": 17,
   "id": "cd1fdf62-f906-45a0-97b2-d8cb23c09cef",
   "metadata": {
    "ExecuteTime": {
     "end_time": "2024-06-19T03:43:25.485399Z",
     "start_time": "2024-06-19T03:43:25.340814Z"
    }
   },
   "outputs": [
    {
     "ename": "NameError",
     "evalue": "name 'cv2' is not defined",
     "output_type": "error",
     "traceback": [
      "\u001b[1;31m---------------------------------------------------------------------------\u001b[0m",
      "\u001b[1;31mNameError\u001b[0m                                 Traceback (most recent call last)",
      "Cell \u001b[1;32mIn[17], line 4\u001b[0m\n\u001b[0;32m      1\u001b[0m \u001b[38;5;66;03m## Reproduciendo un video en lugar de capturar video por la cámara\u001b[39;00m\n\u001b[0;32m      3\u001b[0m video \u001b[38;5;241m=\u001b[39m \u001b[38;5;124m\"\u001b[39m\u001b[38;5;124mC:\u001b[39m\u001b[38;5;130;01m\\\\\u001b[39;00m\u001b[38;5;124mJupyter\u001b[39m\u001b[38;5;130;01m\\\\\u001b[39;00m\u001b[38;5;124mpdi\u001b[39m\u001b[38;5;130;01m\\\\\u001b[39;00m\u001b[38;5;124mimagenes\u001b[39m\u001b[38;5;130;01m\\\\\u001b[39;00m\u001b[38;5;124mcircles.avi\u001b[39m\u001b[38;5;124m\"\u001b[39m\n\u001b[1;32m----> 4\u001b[0m cap \u001b[38;5;241m=\u001b[39m cv2\u001b[38;5;241m.\u001b[39mVideoCapture(video) \u001b[38;5;66;03m# 0 es el número de la cámara, en caso de que existan más cámaras\u001b[39;00m\n\u001b[0;32m      5\u001b[0m \u001b[38;5;28;01mwhile\u001b[39;00m cap\u001b[38;5;241m.\u001b[39misOpened():\n\u001b[0;32m      6\u001b[0m     ret, frame \u001b[38;5;241m=\u001b[39m cap\u001b[38;5;241m.\u001b[39mread()\n",
      "\u001b[1;31mNameError\u001b[0m: name 'cv2' is not defined"
     ]
    }
   ],
   "source": [
    "## Reproduciendo un video en lugar de capturar video por la cámara\n",
    "\n",
    "video = \"C:\\\\Jupyter\\\\pdi\\\\imagenes\\\\circles.avi\"\n",
    "cap = cv2.VideoCapture(video) # 0 es el número de la cámara, en caso de que existan más cámaras\n",
    "while cap.isOpened():\n",
    "    ret, frame = cap.read()\n",
    "    lower = (200, 0, 0)\n",
    "    upper = (250, 0, 0)\n",
    "    mascara = cv2.inRange(frame, lower, upper)\n",
    "    \n",
    "    if ret == True:\n",
    "        cv2.imshow(\"Video 2\", frame)\n",
    "        cv2.imshow(\"Máscara\", mascara)\n",
    "        #print(frame)\n",
    "        if cv2.waitKey(25) == 97: ## 97 es el código ascii de la letra a. O sea, si oprimo a, se cierra la ventana\n",
    "            break\n",
    "    else:\n",
    "        break\n",
    "cap.release()\n",
    "cv2.destroyAllWindows()"
   ]
  },
  {
   "cell_type": "code",
   "execution_count": 9,
   "id": "538c3261-c426-4266-a729-1766e653fb32",
   "metadata": {
    "ExecuteTime": {
     "end_time": "2024-06-19T03:43:25.690977Z",
     "start_time": "2024-06-19T03:43:25.493390Z"
    }
   },
   "outputs": [
    {
     "ename": "error",
     "evalue": "OpenCV(4.9.0) D:\\bld\\libopencv_1716156177264\\work\\modules\\core\\src\\arithm.cpp:1726: error: (-215:Assertion failed) ! _src.empty() in function 'cv::inRange'\n",
     "output_type": "error",
     "traceback": [
      "\u001b[1;31m---------------------------------------------------------------------------\u001b[0m",
      "\u001b[1;31merror\u001b[0m                                     Traceback (most recent call last)",
      "Cell \u001b[1;32mIn[9], line 9\u001b[0m\n\u001b[0;32m      7\u001b[0m lower \u001b[38;5;241m=\u001b[39m (\u001b[38;5;241m200\u001b[39m, \u001b[38;5;241m0\u001b[39m, \u001b[38;5;241m0\u001b[39m) \u001b[38;5;66;03m## este es el filtro que se aplicará al azul\u001b[39;00m\n\u001b[0;32m      8\u001b[0m upper \u001b[38;5;241m=\u001b[39m (\u001b[38;5;241m250\u001b[39m, \u001b[38;5;241m0\u001b[39m, \u001b[38;5;241m0\u001b[39m)\n\u001b[1;32m----> 9\u001b[0m mascara \u001b[38;5;241m=\u001b[39m \u001b[43mcv2\u001b[49m\u001b[38;5;241;43m.\u001b[39;49m\u001b[43minRange\u001b[49m\u001b[43m(\u001b[49m\u001b[43mframe\u001b[49m\u001b[43m,\u001b[49m\u001b[43m \u001b[49m\u001b[43mlower\u001b[49m\u001b[43m,\u001b[49m\u001b[43m \u001b[49m\u001b[43mupper\u001b[49m\u001b[43m)\u001b[49m\n\u001b[0;32m     10\u001b[0m filtro_img \u001b[38;5;241m=\u001b[39m cv2\u001b[38;5;241m.\u001b[39mbitwise_and(frame, frame, mask \u001b[38;5;241m=\u001b[39m mascara)\n\u001b[0;32m     12\u001b[0m \u001b[38;5;28;01mif\u001b[39;00m ret \u001b[38;5;241m==\u001b[39m \u001b[38;5;28;01mTrue\u001b[39;00m:\n",
      "\u001b[1;31merror\u001b[0m: OpenCV(4.9.0) D:\\bld\\libopencv_1716156177264\\work\\modules\\core\\src\\arithm.cpp:1726: error: (-215:Assertion failed) ! _src.empty() in function 'cv::inRange'\n"
     ]
    }
   ],
   "source": [
    "## Reproduciendo un video en lugar de capturar video por la cámara\n",
    "\n",
    "video = \"C:\\\\Jupyter\\\\pdi\\\\imagenes\\\\circles.avi\"\n",
    "cap = cv2.VideoCapture(video) # 0 es el número de la cámara, en caso de que existan más cámaras\n",
    "while cap.isOpened():\n",
    "    ret, frame = cap.read()\n",
    "    lower = (200, 0, 0) ## este es el filtro que se aplicará al azul\n",
    "    upper = (250, 0, 0)\n",
    "    mascara = cv2.inRange(frame, lower, upper)\n",
    "    filtro_img = cv2.bitwise_and(frame, frame, mask = mascara)\n",
    "    \n",
    "    if ret == True:\n",
    "        cv2.imshow(\"Video 2\", frame)\n",
    "        cv2.imshow(\"Filtro azul\", filtro_img)\n",
    "        cv2.imshow(\"Máscara\", mascara)\n",
    "        #print(frame)\n",
    "        if cv2.waitKey(25) == 97: ## 97 es el código ascii de la letra a. O sea, si oprimo a, se cierra la ventana\n",
    "            break\n",
    "    else:\n",
    "        break\n",
    "cap.release()\n",
    "cv2.destroyAllWindows()"
   ]
  },
  {
   "cell_type": "code",
   "execution_count": 2,
   "id": "19cef981-19a3-44ee-96e0-898e7e2ad01b",
   "metadata": {},
   "outputs": [
    {
     "ename": "error",
     "evalue": "OpenCV(4.9.0) D:\\bld\\libopencv_1716156177264\\work\\modules\\imgproc\\src\\color.cpp:196: error: (-215:Assertion failed) !_src.empty() in function 'cv::cvtColor'\n",
     "output_type": "error",
     "traceback": [
      "\u001b[1;31m---------------------------------------------------------------------------\u001b[0m",
      "\u001b[1;31merror\u001b[0m                                     Traceback (most recent call last)",
      "Cell \u001b[1;32mIn[2], line 8\u001b[0m\n\u001b[0;32m      6\u001b[0m \u001b[38;5;28;01mwhile\u001b[39;00m cap\u001b[38;5;241m.\u001b[39misOpened():\n\u001b[0;32m      7\u001b[0m     ret, frame \u001b[38;5;241m=\u001b[39m cap\u001b[38;5;241m.\u001b[39mread()\n\u001b[1;32m----> 8\u001b[0m     frame_hsv \u001b[38;5;241m=\u001b[39m \u001b[43mcv2\u001b[49m\u001b[38;5;241;43m.\u001b[39;49m\u001b[43mcvtColor\u001b[49m\u001b[43m(\u001b[49m\u001b[43mframe\u001b[49m\u001b[43m,\u001b[49m\u001b[43m \u001b[49m\u001b[43mcv2\u001b[49m\u001b[38;5;241;43m.\u001b[39;49m\u001b[43mCOLOR_BGR2HSV\u001b[49m\u001b[43m)\u001b[49m\n\u001b[0;32m      9\u001b[0m     lower \u001b[38;5;241m=\u001b[39m np\u001b[38;5;241m.\u001b[39marray([\u001b[38;5;241m100\u001b[39m, \u001b[38;5;241m80\u001b[39m, \u001b[38;5;241m80\u001b[39m], np\u001b[38;5;241m.\u001b[39muint8) \u001b[38;5;66;03m## este es el filtro que se aplicará al azul\u001b[39;00m\n\u001b[0;32m     10\u001b[0m     upper \u001b[38;5;241m=\u001b[39m np\u001b[38;5;241m.\u001b[39marray([\u001b[38;5;241m125\u001b[39m, \u001b[38;5;241m255\u001b[39m, \u001b[38;5;241m255\u001b[39m], np\u001b[38;5;241m.\u001b[39muint8)\n",
      "\u001b[1;31merror\u001b[0m: OpenCV(4.9.0) D:\\bld\\libopencv_1716156177264\\work\\modules\\imgproc\\src\\color.cpp:196: error: (-215:Assertion failed) !_src.empty() in function 'cv::cvtColor'\n"
     ]
    }
   ],
   "source": [
    "## Reproduciendo un video en lugar de capturar video por la cámara\n",
    "\n",
    "video = \"C:\\\\Jupyter\\\\pdi\\\\imagenes\\\\circles.avi\"\n",
    "cap = cv2.VideoCapture(video) # 0 es el número de la cámara, en caso de que existan más cámaras\n",
    "\n",
    "while cap.isOpened():\n",
    "    ret, frame = cap.read()\n",
    "    frame_hsv = cv2.cvtColor(frame, cv2.COLOR_BGR2HSV)\n",
    "    lower = np.array([100, 80, 80], np.uint8) ## este es el filtro que se aplicará al azul\n",
    "    upper = np.array([125, 255, 255], np.uint8)\n",
    "    mascara = cv2.inRange(frame_hsv, lower, upper)\n",
    "    #filtro_img = cv2.bitwise_and(frame, frame, mask = mascara)\n",
    "    \n",
    "    if ret == True:\n",
    "        cv2.imshow(\"Video 2\", frame)\n",
    "        cv2.imshow(\"Máscara\", mascara)\n",
    "        #cv2.imshow(\"Filtro azul\", filtro_img)\n",
    "        #print(frame)\n",
    "        if cv2.waitKey(25) == 97: ## 97 es el código ascii de la letra a. O sea, si oprimo a, se cierra la ventana\n",
    "            break\n",
    "    else:\n",
    "        break\n",
    "cap.release()\n",
    "cv2.destroyAllWindows()"
   ]
  },
  {
   "cell_type": "code",
   "execution_count": 4,
   "id": "a342a1d2-42d4-407d-9d1c-bb46897118ac",
   "metadata": {},
   "outputs": [],
   "source": [
    "#Detección de color con cámara de video. Se utiliza el espacio de color HSV, porque siempre se tienen rangos de colores en aumento. Mientras que en \n",
    "#GBR, algunos colores que utilizan las tres bandas pueden ser así rango inicio(200, 70, 0) fin(255, 50, 0). Como se ve, la segunda banda disminuye, por tanto al usar la función\n",
    "## inRange, esto genera un error y no puede entender este descenso. Por lo tanto, la detección del color siempre se debe trabajar con HSV\n",
    "import cv2\n",
    "import numpy as np\n",
    "\n",
    "cap = cv2.VideoCapture(0)\n",
    "\n",
    "Redlower1 = np.array([0,80,80],np.uint8)\n",
    "Redupper1 = np.array([8,255,255],np.uint8)\n",
    "\n",
    "Redlower2 = np.array([175,80,80],np.uint8)\n",
    "Redupper2 = np.array([179,255,255],np.uint8)\n",
    "\n",
    "while cap.isOpened():\n",
    "\tret, frame = cap.read()\n",
    "\tframe_hsv = cv2.cvtColor(frame,cv2.COLOR_BGR2HSV)\n",
    "\tmascara1 = cv2.inRange(frame_hsv,Redlower1,Redupper1)\n",
    "\tmascara2 = cv2.inRange(frame_hsv,Redlower2,Redupper2)\n",
    "\tmascara = cv2.add(mascara1,mascara2)\n",
    "\t#filtro_img = cv2.bitwise_and(frame,frame,mask = mascara)\n",
    "\tif ret == True:\n",
    "\t\tcv2.imshow(\"Video\",frame)\n",
    "\t\tcv2.imshow(\"mascara\",mascara)\n",
    "\t\t#cv2.imshow(\"filtro_img\",filtro_img)\n",
    "\t\t#print(frame)\n",
    "\t\tif cv2.waitKey(1) == 97: ## oprimir la letra a para detener la reproduccion de la cámara\n",
    "\t\t\tbreak\n",
    "\telse:\n",
    "\t\tbreak\n",
    "cap.release()\n",
    "cv2.destroyAllWindows()"
   ]
  },
  {
   "cell_type": "code",
   "execution_count": 3,
   "id": "62685f14-5aac-4f20-8340-048db40fe1cd",
   "metadata": {},
   "outputs": [],
   "source": [
    "import cv2\n",
    "import numpy as np\n",
    "\n",
    "\n",
    "## Oprimir la letra a para que no se bloquee python. Se asigna una velocidad de reproducción de 100 (cv2.waitKey(100)), para poder visualizar la detección y alcanzar a oprimir la letra a\n",
    "video = \"C:\\\\Jupyter\\\\pdi\\\\imagenes\\\\circles.avi\"\n",
    "cap = cv2.VideoCapture(video)\n",
    "\n",
    "Redlower1 = np.array([0,80,80],np.uint8)\n",
    "Redupper1 = np.array([8,255,255],np.uint8)\n",
    "\n",
    "Redlower2 = np.array([175,80,80],np.uint8)\n",
    "Redupper2 = np.array([179,255,255],np.uint8)\n",
    "\n",
    "while cap.isOpened():\n",
    "\tret, frame = cap.read()\n",
    "\tframe_hsv = cv2.cvtColor(frame,cv2.COLOR_BGR2HSV)\n",
    "\tmascara1 = cv2.inRange(frame_hsv,Redlower1,Redupper1)\n",
    "\tmascara2 = cv2.inRange(frame_hsv,Redlower2,Redupper2)\n",
    "\tmascara = cv2.add(mascara1,mascara2)\n",
    "\t#filtro_img = cv2.bitwise_and(frame,frame,mask = mascara)\n",
    "\tif ret == True:\n",
    "\t\tcv2.imshow(\"Video\",frame)\n",
    "\t\tcv2.imshow(\"mascara\",mascara)\n",
    "\t\t#cv2.imshow(\"filtro_img\",filtro_img)\n",
    "\t\t#print(frame)\n",
    "\t\tif cv2.waitKey(100) == 97:\n",
    "\t\t\tbreak\n",
    "\telse:\n",
    "\t\tbreak\n",
    "cap.release()\n",
    "cv2.destroyAllWindows()"
   ]
  }
 ],
 "metadata": {
  "kernelspec": {
   "display_name": "Python 3 (ipykernel)",
   "language": "python",
   "name": "python3"
  },
  "language_info": {
   "codemirror_mode": {
    "name": "ipython",
    "version": 3
   },
   "file_extension": ".py",
   "mimetype": "text/x-python",
   "name": "python",
   "nbconvert_exporter": "python",
   "pygments_lexer": "ipython3",
   "version": "3.12.3"
  }
 },
 "nbformat": 4,
 "nbformat_minor": 5
}
